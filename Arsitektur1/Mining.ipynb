{
 "cells": [
  {
   "cell_type": "code",
   "execution_count": 1,
   "metadata": {},
   "outputs": [
    {
     "name": "stderr",
     "output_type": "stream",
     "text": [
      "/tmp/ipykernel_2243/2806062083.py:2: DeprecationWarning: \n",
      "Pyarrow will become a required dependency of pandas in the next major release of pandas (pandas 3.0),\n",
      "(to allow more performant data types, such as the Arrow string type, and better interoperability with other libraries)\n",
      "but was not found to be installed on your system.\n",
      "If this would cause problems for you,\n",
      "please provide us feedback at https://github.com/pandas-dev/pandas/issues/54466\n",
      "        \n",
      "  import pandas as pd\n"
     ]
    }
   ],
   "source": [
    "import ephem \n",
    "import pandas as pd \n",
    "from datetime import datetime, timedelta\n",
    "import os \n"
   ]
  },
  {
   "cell_type": "code",
   "execution_count": 2,
   "metadata": {},
   "outputs": [],
   "source": [
    "def get_solar_position(latitude, longitude, date):\n",
    "    observer = ephem.Observer()\n",
    "    observer.lat = str(latitude)\n",
    "    observer.long = str(longitude)\n",
    "    observer.date = date \n",
    "\n",
    "\n",
    "    sun  = ephem.Sun(observer)\n",
    "\n",
    "    azimuth = sun.az * 180 / ephem.pi\n",
    "    altitude = sun.alt * 180 /ephem.pi\n",
    "\n",
    "    return azimuth, altitude"
   ]
  },
  {
   "cell_type": "code",
   "execution_count": 3,
   "metadata": {},
   "outputs": [],
   "source": [
    "latitude = -7.921179\n",
    "longitude = 112.599392"
   ]
  },
  {
   "cell_type": "code",
   "execution_count": 4,
   "metadata": {},
   "outputs": [],
   "source": [
    "start_date = datetime(2022, 10, 1)\n",
    "end_date = datetime(2023, 1, 1)"
   ]
  },
  {
   "cell_type": "code",
   "execution_count": 5,
   "metadata": {},
   "outputs": [],
   "source": [
    "time_interval = timedelta(minutes= 10)"
   ]
  },
  {
   "cell_type": "code",
   "execution_count": 6,
   "metadata": {},
   "outputs": [],
   "source": [
    "data_list = []\n",
    "current_date = start_date\n",
    "\n",
    "while current_date <= end_date:\n",
    "    azimuth, altitude = get_solar_position(latitude, longitude, current_date)\n",
    "\n",
    "\n",
    "    data_list.append({\n",
    "        'Datetime': current_date,\n",
    "        'Latitude': latitude,\n",
    "        'Longitude': longitude,\n",
    "        'Azimuth': azimuth,\n",
    "        'Altitude': altitude\n",
    "    })\n",
    "\n",
    "    current_date += time_interval"
   ]
  },
  {
   "cell_type": "code",
   "execution_count": 7,
   "metadata": {},
   "outputs": [
    {
     "data": {
      "text/html": [
       "<div>\n",
       "<style scoped>\n",
       "    .dataframe tbody tr th:only-of-type {\n",
       "        vertical-align: middle;\n",
       "    }\n",
       "\n",
       "    .dataframe tbody tr th {\n",
       "        vertical-align: top;\n",
       "    }\n",
       "\n",
       "    .dataframe thead th {\n",
       "        text-align: right;\n",
       "    }\n",
       "</style>\n",
       "<table border=\"1\" class=\"dataframe\">\n",
       "  <thead>\n",
       "    <tr style=\"text-align: right;\">\n",
       "      <th></th>\n",
       "      <th>Datetime</th>\n",
       "      <th>Latitude</th>\n",
       "      <th>Longitude</th>\n",
       "      <th>Azimuth</th>\n",
       "      <th>Altitude</th>\n",
       "    </tr>\n",
       "  </thead>\n",
       "  <tbody>\n",
       "    <tr>\n",
       "      <th>0</th>\n",
       "      <td>2022-10-01 00:00:00</td>\n",
       "      <td>-7.921179</td>\n",
       "      <td>112.599392</td>\n",
       "      <td>89.685158</td>\n",
       "      <td>25.347887</td>\n",
       "    </tr>\n",
       "    <tr>\n",
       "      <th>1</th>\n",
       "      <td>2022-10-01 00:10:00</td>\n",
       "      <td>-7.921179</td>\n",
       "      <td>112.599392</td>\n",
       "      <td>89.332884</td>\n",
       "      <td>27.821462</td>\n",
       "    </tr>\n",
       "    <tr>\n",
       "      <th>2</th>\n",
       "      <td>2022-10-01 00:20:00</td>\n",
       "      <td>-7.921179</td>\n",
       "      <td>112.599392</td>\n",
       "      <td>88.970932</td>\n",
       "      <td>30.295383</td>\n",
       "    </tr>\n",
       "    <tr>\n",
       "      <th>3</th>\n",
       "      <td>2022-10-01 00:30:00</td>\n",
       "      <td>-7.921179</td>\n",
       "      <td>112.599392</td>\n",
       "      <td>88.597184</td>\n",
       "      <td>32.769421</td>\n",
       "    </tr>\n",
       "    <tr>\n",
       "      <th>4</th>\n",
       "      <td>2022-10-01 00:40:00</td>\n",
       "      <td>-7.921179</td>\n",
       "      <td>112.599392</td>\n",
       "      <td>88.209216</td>\n",
       "      <td>35.243377</td>\n",
       "    </tr>\n",
       "    <tr>\n",
       "      <th>5</th>\n",
       "      <td>2022-10-01 00:50:00</td>\n",
       "      <td>-7.921179</td>\n",
       "      <td>112.599392</td>\n",
       "      <td>87.804220</td>\n",
       "      <td>37.717059</td>\n",
       "    </tr>\n",
       "    <tr>\n",
       "      <th>6</th>\n",
       "      <td>2022-10-01 01:00:00</td>\n",
       "      <td>-7.921179</td>\n",
       "      <td>112.599392</td>\n",
       "      <td>87.378890</td>\n",
       "      <td>40.190267</td>\n",
       "    </tr>\n",
       "    <tr>\n",
       "      <th>7</th>\n",
       "      <td>2022-10-01 01:10:00</td>\n",
       "      <td>-7.921179</td>\n",
       "      <td>112.599392</td>\n",
       "      <td>86.929327</td>\n",
       "      <td>42.662789</td>\n",
       "    </tr>\n",
       "    <tr>\n",
       "      <th>8</th>\n",
       "      <td>2022-10-01 01:20:00</td>\n",
       "      <td>-7.921179</td>\n",
       "      <td>112.599392</td>\n",
       "      <td>86.450818</td>\n",
       "      <td>45.134385</td>\n",
       "    </tr>\n",
       "    <tr>\n",
       "      <th>9</th>\n",
       "      <td>2022-10-01 01:30:00</td>\n",
       "      <td>-7.921179</td>\n",
       "      <td>112.599392</td>\n",
       "      <td>85.937638</td>\n",
       "      <td>47.604783</td>\n",
       "    </tr>\n",
       "  </tbody>\n",
       "</table>\n",
       "</div>"
      ],
      "text/plain": [
       "             Datetime  Latitude   Longitude    Azimuth   Altitude\n",
       "0 2022-10-01 00:00:00 -7.921179  112.599392  89.685158  25.347887\n",
       "1 2022-10-01 00:10:00 -7.921179  112.599392  89.332884  27.821462\n",
       "2 2022-10-01 00:20:00 -7.921179  112.599392  88.970932  30.295383\n",
       "3 2022-10-01 00:30:00 -7.921179  112.599392  88.597184  32.769421\n",
       "4 2022-10-01 00:40:00 -7.921179  112.599392  88.209216  35.243377\n",
       "5 2022-10-01 00:50:00 -7.921179  112.599392  87.804220  37.717059\n",
       "6 2022-10-01 01:00:00 -7.921179  112.599392  87.378890  40.190267\n",
       "7 2022-10-01 01:10:00 -7.921179  112.599392  86.929327  42.662789\n",
       "8 2022-10-01 01:20:00 -7.921179  112.599392  86.450818  45.134385\n",
       "9 2022-10-01 01:30:00 -7.921179  112.599392  85.937638  47.604783"
      ]
     },
     "execution_count": 7,
     "metadata": {},
     "output_type": "execute_result"
    }
   ],
   "source": [
    "df = pd.DataFrame(data_list)\n",
    "df.head(10)"
   ]
  },
  {
   "cell_type": "code",
   "execution_count": 8,
   "metadata": {},
   "outputs": [],
   "source": [
    "base_directory = 'solar_data'\n"
   ]
  },
  {
   "cell_type": "code",
   "execution_count": 9,
   "metadata": {},
   "outputs": [
    {
     "name": "stdout",
     "output_type": "stream",
     "text": [
      "Data save in : solar_data/solar_data_october_2022_to_january_2023.csv\n"
     ]
    }
   ],
   "source": [
    "csv_file_path = os.path.join(base_directory, f'solar_data_{start_date.strftime(\"%B\").lower()}_{start_date.year}_to_{end_date.strftime(\"%B\").lower()}_{end_date.year}.csv')\n",
    "df.to_csv(csv_file_path, index=False, sep=';')\n",
    "\n",
    "\n",
    "print(f\"Data save in : {csv_file_path}\")"
   ]
  },
  {
   "cell_type": "code",
   "execution_count": null,
   "metadata": {},
   "outputs": [],
   "source": []
  }
 ],
 "metadata": {
  "kernelspec": {
   "display_name": "Python 3",
   "language": "python",
   "name": "python3"
  },
  "language_info": {
   "codemirror_mode": {
    "name": "ipython",
    "version": 3
   },
   "file_extension": ".py",
   "mimetype": "text/x-python",
   "name": "python",
   "nbconvert_exporter": "python",
   "pygments_lexer": "ipython3",
   "version": "3.10.12"
  }
 },
 "nbformat": 4,
 "nbformat_minor": 2
}
