{
 "cells": [
  {
   "cell_type": "code",
   "execution_count": 64,
   "metadata": {},
   "outputs": [],
   "source": [
    "import ephem \n",
    "import pandas as pd \n",
    "from datetime import datetime, timedelta\n",
    "import os \n"
   ]
  },
  {
   "cell_type": "code",
   "execution_count": 65,
   "metadata": {},
   "outputs": [],
   "source": [
    "def get_solar_position(latitude, longitude, date):\n",
    "    observer = ephem.Observer()\n",
    "    observer.lat = str(latitude)\n",
    "    observer.long = str(longitude)\n",
    "    observer.date = date \n",
    "\n",
    "\n",
    "    sun  = ephem.Sun(observer)\n",
    "\n",
    "    azimuth = sun.az * 180 / ephem.pi\n",
    "    altitude = sun.alt * 180 /ephem.pi\n",
    "\n",
    "    return azimuth, altitude"
   ]
  },
  {
   "cell_type": "code",
   "execution_count": 66,
   "metadata": {},
   "outputs": [],
   "source": [
    "latitude = -7.921179\n",
    "longitude = 112.599392"
   ]
  },
  {
   "cell_type": "code",
   "execution_count": 67,
   "metadata": {},
   "outputs": [],
   "source": [
    "start_date = datetime(2020, 10, 1)\n",
    "end_date = datetime(2021, 1, 1)"
   ]
  },
  {
   "cell_type": "code",
   "execution_count": 68,
   "metadata": {},
   "outputs": [],
   "source": [
    "time_interval = timedelta(minutes= 10)"
   ]
  },
  {
   "cell_type": "code",
   "execution_count": 69,
   "metadata": {},
   "outputs": [],
   "source": [
    "data_list = []\n",
    "current_date = start_date\n",
    "\n",
    "while current_date <= end_date:\n",
    "    azimuth, altitude = get_solar_position(latitude, longitude, current_date)\n",
    "\n",
    "\n",
    "    data_list.append({\n",
    "        'Datetime': current_date,\n",
    "        'Latitude': latitude,\n",
    "        'Longitude': longitude,\n",
    "        'Azimuth': azimuth,\n",
    "        'Altitude': altitude\n",
    "    })\n",
    "\n",
    "    current_date += time_interval"
   ]
  },
  {
   "cell_type": "code",
   "execution_count": 70,
   "metadata": {},
   "outputs": [
    {
     "data": {
      "text/html": [
       "<div>\n",
       "<style scoped>\n",
       "    .dataframe tbody tr th:only-of-type {\n",
       "        vertical-align: middle;\n",
       "    }\n",
       "\n",
       "    .dataframe tbody tr th {\n",
       "        vertical-align: top;\n",
       "    }\n",
       "\n",
       "    .dataframe thead th {\n",
       "        text-align: right;\n",
       "    }\n",
       "</style>\n",
       "<table border=\"1\" class=\"dataframe\">\n",
       "  <thead>\n",
       "    <tr style=\"text-align: right;\">\n",
       "      <th></th>\n",
       "      <th>Datetime</th>\n",
       "      <th>Latitude</th>\n",
       "      <th>Longitude</th>\n",
       "      <th>Azimuth</th>\n",
       "      <th>Altitude</th>\n",
       "    </tr>\n",
       "  </thead>\n",
       "  <tbody>\n",
       "    <tr>\n",
       "      <th>0</th>\n",
       "      <td>2020-10-01 00:00:00</td>\n",
       "      <td>-7.921179</td>\n",
       "      <td>112.599392</td>\n",
       "      <td>89.882530</td>\n",
       "      <td>25.414576</td>\n",
       "    </tr>\n",
       "    <tr>\n",
       "      <th>1</th>\n",
       "      <td>2020-10-01 00:10:00</td>\n",
       "      <td>-7.921179</td>\n",
       "      <td>112.599392</td>\n",
       "      <td>89.534539</td>\n",
       "      <td>27.888221</td>\n",
       "    </tr>\n",
       "    <tr>\n",
       "      <th>2</th>\n",
       "      <td>2020-10-01 00:20:00</td>\n",
       "      <td>-7.921179</td>\n",
       "      <td>112.599392</td>\n",
       "      <td>89.177443</td>\n",
       "      <td>30.362260</td>\n",
       "    </tr>\n",
       "    <tr>\n",
       "      <th>3</th>\n",
       "      <td>2020-10-01 00:30:00</td>\n",
       "      <td>-7.921179</td>\n",
       "      <td>112.599392</td>\n",
       "      <td>88.809173</td>\n",
       "      <td>32.836476</td>\n",
       "    </tr>\n",
       "    <tr>\n",
       "      <th>4</th>\n",
       "      <td>2020-10-01 00:40:00</td>\n",
       "      <td>-7.921179</td>\n",
       "      <td>112.599392</td>\n",
       "      <td>88.427365</td>\n",
       "      <td>35.310678</td>\n",
       "    </tr>\n",
       "    <tr>\n",
       "      <th>5</th>\n",
       "      <td>2020-10-01 00:50:00</td>\n",
       "      <td>-7.921179</td>\n",
       "      <td>112.599392</td>\n",
       "      <td>88.029302</td>\n",
       "      <td>37.784671</td>\n",
       "    </tr>\n",
       "    <tr>\n",
       "      <th>6</th>\n",
       "      <td>2020-10-01 01:00:00</td>\n",
       "      <td>-7.921179</td>\n",
       "      <td>112.599392</td>\n",
       "      <td>87.611786</td>\n",
       "      <td>40.258269</td>\n",
       "    </tr>\n",
       "    <tr>\n",
       "      <th>7</th>\n",
       "      <td>2020-10-01 01:10:00</td>\n",
       "      <td>-7.921179</td>\n",
       "      <td>112.599392</td>\n",
       "      <td>87.171020</td>\n",
       "      <td>42.731272</td>\n",
       "    </tr>\n",
       "    <tr>\n",
       "      <th>8</th>\n",
       "      <td>2020-10-01 01:20:00</td>\n",
       "      <td>-7.921179</td>\n",
       "      <td>112.599392</td>\n",
       "      <td>86.702442</td>\n",
       "      <td>45.203456</td>\n",
       "    </tr>\n",
       "    <tr>\n",
       "      <th>9</th>\n",
       "      <td>2020-10-01 01:30:00</td>\n",
       "      <td>-7.921179</td>\n",
       "      <td>112.599392</td>\n",
       "      <td>86.200512</td>\n",
       "      <td>47.674560</td>\n",
       "    </tr>\n",
       "  </tbody>\n",
       "</table>\n",
       "</div>"
      ],
      "text/plain": [
       "             Datetime  Latitude   Longitude    Azimuth   Altitude\n",
       "0 2020-10-01 00:00:00 -7.921179  112.599392  89.882530  25.414576\n",
       "1 2020-10-01 00:10:00 -7.921179  112.599392  89.534539  27.888221\n",
       "2 2020-10-01 00:20:00 -7.921179  112.599392  89.177443  30.362260\n",
       "3 2020-10-01 00:30:00 -7.921179  112.599392  88.809173  32.836476\n",
       "4 2020-10-01 00:40:00 -7.921179  112.599392  88.427365  35.310678\n",
       "5 2020-10-01 00:50:00 -7.921179  112.599392  88.029302  37.784671\n",
       "6 2020-10-01 01:00:00 -7.921179  112.599392  87.611786  40.258269\n",
       "7 2020-10-01 01:10:00 -7.921179  112.599392  87.171020  42.731272\n",
       "8 2020-10-01 01:20:00 -7.921179  112.599392  86.702442  45.203456\n",
       "9 2020-10-01 01:30:00 -7.921179  112.599392  86.200512  47.674560"
      ]
     },
     "execution_count": 70,
     "metadata": {},
     "output_type": "execute_result"
    }
   ],
   "source": [
    "df = pd.DataFrame(data_list)\n",
    "df.head(10)"
   ]
  },
  {
   "cell_type": "code",
   "execution_count": 71,
   "metadata": {},
   "outputs": [],
   "source": [
    "base_directory = 'solar_data'\n"
   ]
  },
  {
   "cell_type": "code",
   "execution_count": 72,
   "metadata": {},
   "outputs": [
    {
     "name": "stdout",
     "output_type": "stream",
     "text": [
      "Data save in : solar_data/solar_data_october_2020_to_january_2021.csv\n"
     ]
    }
   ],
   "source": [
    "csv_file_path = os.path.join(base_directory, f'solar_data_{start_date.strftime(\"%B\").lower()}_{start_date.year}_to_{end_date.strftime(\"%B\").lower()}_{end_date.year}.csv')\n",
    "df.to_csv(csv_file_path, index=False, sep=';')\n",
    "\n",
    "\n",
    "print(f\"Data save in : {csv_file_path}\")"
   ]
  }
 ],
 "metadata": {
  "kernelspec": {
   "display_name": "Python 3",
   "language": "python",
   "name": "python3"
  },
  "language_info": {
   "codemirror_mode": {
    "name": "ipython",
    "version": 3
   },
   "file_extension": ".py",
   "mimetype": "text/x-python",
   "name": "python",
   "nbconvert_exporter": "python",
   "pygments_lexer": "ipython3",
   "version": "3.10.12"
  }
 },
 "nbformat": 4,
 "nbformat_minor": 2
}
