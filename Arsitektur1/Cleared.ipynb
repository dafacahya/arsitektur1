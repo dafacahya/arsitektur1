{
 "cells": [
  {
   "cell_type": "code",
   "execution_count": 25,
   "metadata": {},
   "outputs": [],
   "source": [
    "import os \n",
    "import pandas as pd "
   ]
  },
  {
   "cell_type": "code",
   "execution_count": 26,
   "metadata": {},
   "outputs": [],
   "source": [
    "mined_data_path = 'solar_data/solar_data_january_2020_to_april_2020.csv'"
   ]
  },
  {
   "cell_type": "code",
   "execution_count": 27,
   "metadata": {},
   "outputs": [],
   "source": [
    "df = pd.read_csv(mined_data_path, sep= ';', parse_dates=['Datetime'])"
   ]
  },
  {
   "cell_type": "code",
   "execution_count": 28,
   "metadata": {},
   "outputs": [],
   "source": [
    "df_cleaned = df.dropna()\n",
    "df_cleaned['Datetime'] = pd.to_datetime(df_cleaned['Datetime'])\n",
    "df_cleaned['Timestamp'] = df_cleaned['Datetime'].apply(lambda x: x.timestamp())\n",
    "df_cleaned = df_cleaned.drop(columns=['Datetime'])\n",
    "df_cleaned = df_cleaned[['Timestamp'] + [ col for col in df_cleaned.columns if col != 'Timestamp']] "
   ]
  },
  {
   "cell_type": "code",
   "execution_count": 29,
   "metadata": {},
   "outputs": [],
   "source": [
    "df_cleaned['Timestamp'] = pd.to_numeric(df_cleaned['Timestamp'],errors='coerce')\n",
    "df_cleaned['Latitude'] = pd.to_numeric(df_cleaned['Latitude'],errors='coerce')\n",
    "df_cleaned['Longitude'] = pd.to_numeric(df_cleaned['Longitude'],errors='coerce')\n",
    "df_cleaned ['Azimuth'] = round(pd.to_numeric(df_cleaned['Azimuth'], errors='coerce'), 6)\n",
    "df_cleaned ['Altitude'] = round(pd.to_numeric(df_cleaned['Altitude'], errors='coerce'), 6)"
   ]
  },
  {
   "cell_type": "code",
   "execution_count": 30,
   "metadata": {},
   "outputs": [
    {
     "name": "stdout",
     "output_type": "stream",
     "text": [
      "Data sudah di bersihkan dan disimpan di: cleaned/cleaned_data_quartal_1_2020.csv\n"
     ]
    }
   ],
   "source": [
    "cleaned_data_path = 'cleaned/cleaned_data_quartal_1_2020.csv'\n",
    "if not os.path.exists('cleaned'):\n",
    "    os.makedirs('cleaned')\n",
    "df_cleaned.to_csv(cleaned_data_path, index= False, sep=';')\n",
    "\n",
    "print(f\"Data sudah di bersihkan dan disimpan di: {cleaned_data_path}\")"
   ]
  }
 ],
 "metadata": {
  "kernelspec": {
   "display_name": "Python 3",
   "language": "python",
   "name": "python3"
  },
  "language_info": {
   "codemirror_mode": {
    "name": "ipython",
    "version": 3
   },
   "file_extension": ".py",
   "mimetype": "text/x-python",
   "name": "python",
   "nbconvert_exporter": "python",
   "pygments_lexer": "ipython3",
   "version": "3.10.12"
  }
 },
 "nbformat": 4,
 "nbformat_minor": 2
}
