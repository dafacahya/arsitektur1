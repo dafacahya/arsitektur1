{
 "cells": [
  {
   "cell_type": "code",
   "execution_count": 31,
   "metadata": {},
   "outputs": [],
   "source": [
    "import numpy as np \n",
    "import pandas as pd \n",
    "import tensorflow as tf \n",
    "import matplotlib.pyplot as plt \n",
    "from tensorflow.keras.models import Sequential\n",
    "from tensorflow.keras.layers import LSTM, Dense\n",
    "from tensorflow.keras.optimizers import Adam \n",
    "from sklearn.model_selection import train_test_split\n",
    "from sklearn.metrics import mean_squared_error\n",
    "from sklearn.preprocessing import MinMaxScaler"
   ]
  },
  {
   "cell_type": "code",
   "execution_count": 32,
   "metadata": {},
   "outputs": [],
   "source": [
    "def load_dataset(csv_path):\n",
    "    df = pd.read_csv(csv_path, sep= ';')\n",
    "    required_columns = ['Azimuth', 'Altitude', 'Timestamp']\n",
    "\n",
    "    if not all (col in df.columns for col in required_columns):\n",
    "        raise ValueError(\"Required columns are not present in the DataFrame.\")\n",
    "    \n",
    "    X = df['Timestamp'].values.reshape(-1, 1)\n",
    "    y = df['Azimuth'].values\n",
    "\n",
    "    return X, y, df"
   ]
  },
  {
   "cell_type": "code",
   "execution_count": 33,
   "metadata": {},
   "outputs": [],
   "source": [
    "csv_path = 'cleaned/cleaned_data_quartal_1_2020.csv'\n",
    "X, y, df = load_dataset(csv_path)"
   ]
  },
  {
   "cell_type": "code",
   "execution_count": 34,
   "metadata": {},
   "outputs": [],
   "source": [
    "X_train, X_test, y_train, y_test = train_test_split(X, y, test_size=0.2 , random_state= 42)"
   ]
  },
  {
   "cell_type": "code",
   "execution_count": 35,
   "metadata": {},
   "outputs": [],
   "source": [
    "scaler_X = MinMaxScaler()\n",
    "scaler_y = MinMaxScaler()\n",
    "\n",
    "X_train_scaled = scaler_X.fit_transform(X_train)\n",
    "y_train_scaled = scaler_y.fit_transform(y_train.reshape(-1, 1))\n",
    "X_test_scaled = scaler_X.transform(X_test)\n",
    "y_test_scaled = scaler_y.transform(y_test.reshape(-1, 1))"
   ]
  },
  {
   "cell_type": "code",
   "execution_count": 36,
   "metadata": {},
   "outputs": [],
   "source": [
    "timesteps = 1"
   ]
  },
  {
   "cell_type": "code",
   "execution_count": 37,
   "metadata": {},
   "outputs": [],
   "source": [
    "X_train_reshaped = X_train_scaled.reshape((X_train_scaled.shape[0], timesteps, X_train_scaled.shape[1]))\n",
    "X_test_reshaped = X_test_scaled.reshape((X_test_scaled.shape[0], timesteps, X_test_scaled.shape[1]))"
   ]
  },
  {
   "cell_type": "code",
   "execution_count": 42,
   "metadata": {},
   "outputs": [
    {
     "name": "stdout",
     "output_type": "stream",
     "text": [
      "WARNING:tensorflow:Layer lstm_15 will not use cuDNN kernels since it doesn't meet the criteria. It will use a generic GPU kernel as fallback when running on GPU.\n"
     ]
    },
    {
     "name": "stdout",
     "output_type": "stream",
     "text": [
      "WARNING:tensorflow:Layer lstm_16 will not use cuDNN kernels since it doesn't meet the criteria. It will use a generic GPU kernel as fallback when running on GPU.\n",
      "WARNING:tensorflow:Layer lstm_17 will not use cuDNN kernels since it doesn't meet the criteria. It will use a generic GPU kernel as fallback when running on GPU.\n",
      "Epoch 1/100\n",
      "82/82 [==============================] - 5s 21ms/step - loss: 0.1004\n",
      "Epoch 2/100\n",
      "82/82 [==============================] - 2s 19ms/step - loss: 0.0443\n",
      "Epoch 3/100\n",
      "82/82 [==============================] - 2s 22ms/step - loss: 0.0429\n",
      "Epoch 4/100\n",
      "82/82 [==============================] - 2s 22ms/step - loss: 0.0428\n",
      "Epoch 5/100\n",
      "82/82 [==============================] - 2s 22ms/step - loss: 0.0427\n",
      "Epoch 6/100\n",
      "82/82 [==============================] - 2s 20ms/step - loss: 0.0430\n",
      "Epoch 7/100\n",
      "82/82 [==============================] - 2s 19ms/step - loss: 0.0429\n",
      "Epoch 8/100\n",
      "82/82 [==============================] - 1s 18ms/step - loss: 0.0427\n",
      "Epoch 9/100\n",
      "82/82 [==============================] - 2s 19ms/step - loss: 0.0427\n",
      "Epoch 10/100\n",
      "82/82 [==============================] - 2s 19ms/step - loss: 0.0427\n",
      "Epoch 11/100\n",
      "82/82 [==============================] - 2s 20ms/step - loss: 0.0428\n",
      "Epoch 12/100\n",
      "82/82 [==============================] - 2s 18ms/step - loss: 0.0428\n",
      "Epoch 13/100\n",
      "82/82 [==============================] - 2s 19ms/step - loss: 0.0426\n",
      "Epoch 14/100\n",
      "82/82 [==============================] - 2s 19ms/step - loss: 0.0427\n",
      "Epoch 15/100\n",
      "82/82 [==============================] - 2s 19ms/step - loss: 0.0429\n",
      "Epoch 16/100\n",
      "82/82 [==============================] - 2s 19ms/step - loss: 0.0428\n",
      "Epoch 17/100\n",
      "82/82 [==============================] - 1s 18ms/step - loss: 0.0428\n",
      "Epoch 18/100\n",
      "82/82 [==============================] - 2s 19ms/step - loss: 0.0428\n",
      "Epoch 19/100\n",
      "82/82 [==============================] - 2s 19ms/step - loss: 0.0428\n",
      "Epoch 20/100\n",
      "82/82 [==============================] - 2s 19ms/step - loss: 0.0428\n",
      "Epoch 21/100\n",
      "82/82 [==============================] - 2s 19ms/step - loss: 0.0430\n",
      "Epoch 22/100\n",
      "82/82 [==============================] - 2s 21ms/step - loss: 0.0430\n",
      "Epoch 23/100\n",
      "82/82 [==============================] - 2s 20ms/step - loss: 0.0427\n",
      "Epoch 24/100\n",
      "82/82 [==============================] - 2s 19ms/step - loss: 0.0427\n",
      "Epoch 25/100\n",
      "82/82 [==============================] - 2s 20ms/step - loss: 0.0427\n",
      "Epoch 26/100\n",
      "82/82 [==============================] - 2s 19ms/step - loss: 0.0428\n",
      "Epoch 27/100\n",
      "82/82 [==============================] - 2s 20ms/step - loss: 0.0428\n",
      "Epoch 28/100\n",
      "82/82 [==============================] - 2s 20ms/step - loss: 0.0428\n",
      "Epoch 29/100\n",
      "82/82 [==============================] - 2s 21ms/step - loss: 0.0430\n",
      "Epoch 30/100\n",
      "82/82 [==============================] - 2s 20ms/step - loss: 0.0426\n",
      "Epoch 31/100\n",
      "82/82 [==============================] - 2s 20ms/step - loss: 0.0428\n",
      "Epoch 32/100\n",
      "82/82 [==============================] - 2s 21ms/step - loss: 0.0427\n",
      "Epoch 33/100\n",
      "82/82 [==============================] - 2s 20ms/step - loss: 0.0427\n",
      "Epoch 34/100\n",
      "82/82 [==============================] - 2s 20ms/step - loss: 0.0427\n",
      "Epoch 35/100\n",
      "82/82 [==============================] - 2s 19ms/step - loss: 0.0427\n",
      "Epoch 36/100\n",
      "82/82 [==============================] - 2s 20ms/step - loss: 0.0428\n",
      "Epoch 37/100\n",
      "82/82 [==============================] - 2s 20ms/step - loss: 0.0427\n",
      "Epoch 38/100\n",
      "82/82 [==============================] - 2s 20ms/step - loss: 0.0428\n",
      "Epoch 39/100\n",
      "82/82 [==============================] - 2s 20ms/step - loss: 0.0427\n",
      "Epoch 40/100\n",
      "82/82 [==============================] - 2s 21ms/step - loss: 0.0427\n",
      "Epoch 41/100\n",
      "82/82 [==============================] - 2s 20ms/step - loss: 0.0429\n",
      "Epoch 42/100\n",
      "82/82 [==============================] - 2s 20ms/step - loss: 0.0427\n",
      "Epoch 43/100\n",
      "82/82 [==============================] - 2s 20ms/step - loss: 0.0427\n",
      "Epoch 44/100\n",
      "82/82 [==============================] - 2s 19ms/step - loss: 0.0427\n",
      "Epoch 45/100\n",
      "82/82 [==============================] - 2s 21ms/step - loss: 0.0429\n",
      "Epoch 46/100\n",
      "82/82 [==============================] - 2s 20ms/step - loss: 0.0427\n",
      "Epoch 47/100\n",
      "82/82 [==============================] - 2s 21ms/step - loss: 0.0427\n",
      "Epoch 48/100\n",
      "82/82 [==============================] - 2s 20ms/step - loss: 0.0427\n",
      "Epoch 49/100\n",
      "82/82 [==============================] - 2s 21ms/step - loss: 0.0427\n",
      "Epoch 50/100\n",
      "82/82 [==============================] - 2s 20ms/step - loss: 0.0428\n",
      "Epoch 51/100\n",
      "82/82 [==============================] - 2s 20ms/step - loss: 0.0428\n",
      "Epoch 52/100\n",
      "82/82 [==============================] - 2s 21ms/step - loss: 0.0426\n",
      "Epoch 53/100\n",
      "82/82 [==============================] - 2s 19ms/step - loss: 0.0429\n",
      "Epoch 54/100\n",
      "82/82 [==============================] - 2s 21ms/step - loss: 0.0427\n",
      "Epoch 55/100\n",
      "82/82 [==============================] - 2s 21ms/step - loss: 0.0427\n",
      "Epoch 56/100\n",
      "82/82 [==============================] - 2s 20ms/step - loss: 0.0427\n",
      "Epoch 57/100\n",
      "82/82 [==============================] - 2s 21ms/step - loss: 0.0427\n",
      "Epoch 58/100\n",
      "82/82 [==============================] - 2s 20ms/step - loss: 0.0429\n",
      "Epoch 59/100\n",
      "82/82 [==============================] - 2s 20ms/step - loss: 0.0427\n",
      "Epoch 60/100\n",
      "82/82 [==============================] - 2s 20ms/step - loss: 0.0429\n",
      "Epoch 61/100\n",
      "82/82 [==============================] - 2s 20ms/step - loss: 0.0428\n",
      "Epoch 62/100\n",
      "82/82 [==============================] - 2s 20ms/step - loss: 0.0426\n",
      "Epoch 63/100\n",
      "82/82 [==============================] - 2s 20ms/step - loss: 0.0427\n",
      "Epoch 64/100\n",
      "82/82 [==============================] - 2s 20ms/step - loss: 0.0427\n",
      "Epoch 65/100\n",
      "82/82 [==============================] - 2s 20ms/step - loss: 0.0428\n",
      "Epoch 66/100\n",
      "82/82 [==============================] - 2s 19ms/step - loss: 0.0428\n",
      "Epoch 67/100\n",
      "82/82 [==============================] - 2s 20ms/step - loss: 0.0428\n",
      "Epoch 68/100\n",
      "82/82 [==============================] - 2s 19ms/step - loss: 0.0427\n",
      "Epoch 69/100\n",
      "82/82 [==============================] - 2s 20ms/step - loss: 0.0427\n",
      "Epoch 70/100\n",
      "82/82 [==============================] - 2s 20ms/step - loss: 0.0426\n",
      "Epoch 71/100\n",
      "82/82 [==============================] - 2s 20ms/step - loss: 0.0428\n",
      "Epoch 72/100\n",
      "82/82 [==============================] - 2s 21ms/step - loss: 0.0428\n",
      "Epoch 73/100\n",
      "82/82 [==============================] - 2s 20ms/step - loss: 0.0427\n",
      "Epoch 74/100\n",
      "82/82 [==============================] - 2s 20ms/step - loss: 0.0426\n",
      "Epoch 75/100\n",
      "82/82 [==============================] - 2s 21ms/step - loss: 0.0427\n",
      "Epoch 76/100\n",
      "82/82 [==============================] - 2s 20ms/step - loss: 0.0427\n",
      "Epoch 77/100\n",
      "82/82 [==============================] - 2s 20ms/step - loss: 0.0428\n",
      "Epoch 78/100\n",
      "82/82 [==============================] - 2s 20ms/step - loss: 0.0427\n",
      "Epoch 79/100\n",
      "82/82 [==============================] - 2s 20ms/step - loss: 0.0428\n",
      "Epoch 80/100\n",
      "82/82 [==============================] - 2s 20ms/step - loss: 0.0427\n",
      "Epoch 81/100\n",
      "82/82 [==============================] - 2s 20ms/step - loss: 0.0427\n",
      "Epoch 82/100\n",
      "82/82 [==============================] - 2s 19ms/step - loss: 0.0427\n",
      "Epoch 83/100\n",
      "82/82 [==============================] - 2s 19ms/step - loss: 0.0427\n",
      "Epoch 84/100\n",
      "82/82 [==============================] - 2s 20ms/step - loss: 0.0427\n",
      "Epoch 85/100\n",
      "82/82 [==============================] - 2s 20ms/step - loss: 0.0426\n",
      "Epoch 86/100\n",
      "82/82 [==============================] - 2s 20ms/step - loss: 0.0427\n",
      "Epoch 87/100\n",
      "82/82 [==============================] - 2s 20ms/step - loss: 0.0427\n",
      "Epoch 88/100\n",
      "82/82 [==============================] - 2s 20ms/step - loss: 0.0426\n",
      "Epoch 89/100\n",
      "82/82 [==============================] - 2s 20ms/step - loss: 0.0427\n",
      "Epoch 90/100\n",
      "82/82 [==============================] - 2s 19ms/step - loss: 0.0427\n",
      "Epoch 91/100\n",
      "82/82 [==============================] - 2s 20ms/step - loss: 0.0427\n",
      "Epoch 92/100\n",
      "82/82 [==============================] - 2s 20ms/step - loss: 0.0427\n",
      "Epoch 93/100\n",
      "82/82 [==============================] - 2s 20ms/step - loss: 0.0427\n",
      "Epoch 94/100\n",
      "82/82 [==============================] - 2s 19ms/step - loss: 0.0426\n",
      "Epoch 95/100\n",
      "82/82 [==============================] - 2s 21ms/step - loss: 0.0427\n",
      "Epoch 96/100\n",
      "82/82 [==============================] - 2s 21ms/step - loss: 0.0427\n",
      "Epoch 97/100\n",
      "82/82 [==============================] - 2s 20ms/step - loss: 0.0427\n",
      "Epoch 98/100\n",
      "82/82 [==============================] - 2s 20ms/step - loss: 0.0426\n",
      "Epoch 99/100\n",
      "82/82 [==============================] - 2s 20ms/step - loss: 0.0427\n",
      "Epoch 100/100\n",
      "82/82 [==============================] - 2s 20ms/step - loss: 0.0426\n"
     ]
    },
    {
     "data": {
      "text/plain": [
       "<keras.src.callbacks.History at 0x7fbb73059780>"
      ]
     },
     "execution_count": 42,
     "metadata": {},
     "output_type": "execute_result"
    }
   ],
   "source": [
    "model = Sequential()\n",
    "model.add(LSTM(units=1024, activation='relu', input_shape=(timesteps, X_train_scaled.shape[1]), return_sequences=True))\n",
    "model.add(LSTM(units=512, activation= 'relu', return_sequences=True))\n",
    "model.add(LSTM(units=128, activation= 'relu'))\n",
    "model.add(Dense(units=1))\n",
    "\n",
    "optimizer = Adam(learning_rate= 0.001)\n",
    "model.compile(optimizer=optimizer, loss = 'mse')\n",
    "\n",
    "model.fit(X_train_reshaped, y_train_scaled, epochs= 100, batch_size = 128)"
   ]
  },
  {
   "cell_type": "code",
   "execution_count": 41,
   "metadata": {},
   "outputs": [
    {
     "name": "stdout",
     "output_type": "stream",
     "text": [
      "82/82 [==============================] - 0s 5ms/step\n",
      "Mean Squared Error on Test Data: 0.04262449596732471\n"
     ]
    }
   ],
   "source": [
    "predicted_values_scaled = model.predict(X_test_reshaped)\n",
    "predicted_values = scaler_y.inverse_transform(predicted_values_scaled)\n",
    "mse = mean_squared_error(y_test_scaled, predicted_values_scaled)\n",
    "print(f\"Mean Squared Error on Test Data: {mse}\")"
   ]
  },
  {
   "cell_type": "code",
   "execution_count": 40,
   "metadata": {},
   "outputs": [
    {
     "data": {
      "image/png": "[encoded data removed]",
      "text/plain": [
       "<Figure size 1000x600 with 1 Axes>"
      ]
     },
     "metadata": {},
     "output_type": "display_data"
    }
   ],
   "source": [
    "plt.figure(figsize=(10, 6))\n",
    "plt.scatter(X_test[:20], y_test[:20], label='Actual Data', color='blue')\n",
    "plt.scatter(X_test[:20], predicted_values[:20], label='Predicted Data', color='red', marker='x')\n",
    "plt.xlabel('Timestamp')\n",
    "plt.ylabel('Azimuth')\n",
    "plt.title('Actual vs Predicted Azimuth (First 10 Data Points)')\n",
    "plt.legend()\n",
    "plt.show()"
   ]
  }
 ],
 "metadata": {
  "kernelspec": {
   "display_name": "Python 3",
   "language": "python",
   "name": "python3"
  },
  "language_info": {
   "codemirror_mode": {
    "name": "ipython",
    "version": 3
   },
   "file_extension": ".py",
   "mimetype": "text/x-python",
   "name": "python",
   "nbconvert_exporter": "python",
   "pygments_lexer": "ipython3",
   "version": "3.10.12"
  }
 },
 "nbformat": 4,
 "nbformat_minor": 2
}
