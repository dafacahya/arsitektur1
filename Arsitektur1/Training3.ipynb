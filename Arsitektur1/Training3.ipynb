{
 "cells": [
  {
   "cell_type": "code",
   "execution_count": 19,
   "metadata": {},
   "outputs": [],
   "source": [
    "import numpy as np \n",
    "import pandas as pd \n",
    "import tensorflow as tf \n",
    "import matplotlib.pyplot as plt \n",
    "from tensorflow.keras.models import Sequential\n",
    "from tensorflow.keras.layers import LSTM, Dense\n",
    "from tensorflow.keras.optimizers import Adam \n",
    "from sklearn.model_selection import train_test_split\n",
    "from sklearn.metrics import mean_squared_error\n",
    "from sklearn.preprocessing import MinMaxScaler"
   ]
  },
  {
   "cell_type": "code",
   "execution_count": 20,
   "metadata": {},
   "outputs": [],
   "source": [
    "def load_dataset(csv_path):\n",
    "    df = pd.read_csv(csv_path, sep= ';')\n",
    "    required_columns = ['Azimuth', 'Altitude', 'Timestamp']\n",
    "\n",
    "    if not all (col in df.columns for col in required_columns):\n",
    "        raise ValueError(\"Required columns are not present in the DataFrame.\")\n",
    "    \n",
    "    X = df['Timestamp'].values.reshape(-1, 1)\n",
    "    y = df['Azimuth'].values\n",
    "\n",
    "    return X, y, df"
   ]
  },
  {
   "cell_type": "code",
   "execution_count": 21,
   "metadata": {},
   "outputs": [],
   "source": [
    "csv_path = 'cleaned/cleaned_data_quartal_1_2020.csv'\n",
    "X, y, df = load_dataset(csv_path)"
   ]
  },
  {
   "cell_type": "code",
   "execution_count": 22,
   "metadata": {},
   "outputs": [],
   "source": [
    "X_train, X_test, y_train, y_test = train_test_split(X, y, test_size=0.2 , random_state= 42)"
   ]
  },
  {
   "cell_type": "code",
   "execution_count": 23,
   "metadata": {},
   "outputs": [],
   "source": [
    "scaler_X = MinMaxScaler()\n",
    "scaler_y = MinMaxScaler()\n",
    "\n",
    "X_train_scaled = scaler_X.fit_transform(X_train)\n",
    "y_train_scaled = scaler_y.fit_transform(y_train.reshape(-1, 1))\n",
    "X_test_scaled = scaler_X.transform(X_test)\n",
    "y_test_scaled = scaler_y.transform(y_test.reshape(-1, 1))"
   ]
  },
  {
   "cell_type": "code",
   "execution_count": 24,
   "metadata": {},
   "outputs": [],
   "source": [
    "timesteps = 1"
   ]
  },
  {
   "cell_type": "code",
   "execution_count": 25,
   "metadata": {},
   "outputs": [],
   "source": [
    "X_train_reshaped = X_train_scaled.reshape((X_train_scaled.shape[0], timesteps, X_train_scaled.shape[1]))\n",
    "X_test_reshaped = X_test_scaled.reshape((X_test_scaled.shape[0], timesteps, X_test_scaled.shape[1]))"
   ]
  },
  {
   "cell_type": "code",
   "execution_count": 26,
   "metadata": {},
   "outputs": [
    {
     "name": "stdout",
     "output_type": "stream",
     "text": [
      "WARNING:tensorflow:Layer lstm_6 will not use cuDNN kernels since it doesn't meet the criteria. It will use a generic GPU kernel as fallback when running on GPU.\n",
      "WARNING:tensorflow:Layer lstm_7 will not use cuDNN kernels since it doesn't meet the criteria. It will use a generic GPU kernel as fallback when running on GPU.\n",
      "Epoch 1/50\n",
      "328/328 [==============================] - 6s 12ms/step - loss: 0.2508\n",
      "Epoch 2/50\n",
      "328/328 [==============================] - 4s 12ms/step - loss: 0.1214\n",
      "Epoch 3/50\n",
      "328/328 [==============================] - 4s 13ms/step - loss: 0.0578\n",
      "Epoch 4/50\n",
      "328/328 [==============================] - 5s 14ms/step - loss: 0.0533\n",
      "Epoch 5/50\n",
      "328/328 [==============================] - 5s 15ms/step - loss: 0.0501\n",
      "Epoch 6/50\n",
      "328/328 [==============================] - 5s 14ms/step - loss: 0.0477\n",
      "Epoch 7/50\n",
      "328/328 [==============================] - 4s 14ms/step - loss: 0.0459\n",
      "Epoch 8/50\n",
      "328/328 [==============================] - 7s 21ms/step - loss: 0.0446\n",
      "Epoch 9/50\n",
      "328/328 [==============================] - 5s 16ms/step - loss: 0.0438\n",
      "Epoch 10/50\n",
      "328/328 [==============================] - 5s 15ms/step - loss: 0.0433\n",
      "Epoch 11/50\n",
      "328/328 [==============================] - 5s 15ms/step - loss: 0.0430\n",
      "Epoch 12/50\n",
      "328/328 [==============================] - 5s 14ms/step - loss: 0.0428\n",
      "Epoch 13/50\n",
      "328/328 [==============================] - 4s 13ms/step - loss: 0.0427\n",
      "Epoch 14/50\n",
      "328/328 [==============================] - 4s 13ms/step - loss: 0.0427\n",
      "Epoch 15/50\n",
      "328/328 [==============================] - 4s 13ms/step - loss: 0.0426\n",
      "Epoch 16/50\n",
      "328/328 [==============================] - 4s 13ms/step - loss: 0.0426\n",
      "Epoch 17/50\n",
      "328/328 [==============================] - 4s 13ms/step - loss: 0.0426\n",
      "Epoch 18/50\n",
      "328/328 [==============================] - 4s 14ms/step - loss: 0.0426\n",
      "Epoch 19/50\n",
      "328/328 [==============================] - 4s 13ms/step - loss: 0.0426\n",
      "Epoch 20/50\n",
      "328/328 [==============================] - 5s 15ms/step - loss: 0.0426\n",
      "Epoch 21/50\n",
      "328/328 [==============================] - 5s 16ms/step - loss: 0.0426\n",
      "Epoch 22/50\n",
      "328/328 [==============================] - 5s 14ms/step - loss: 0.0426\n",
      "Epoch 23/50\n",
      "133/328 [===========>..................] - ETA: 2s - loss: 0.0423"
     ]
    }
   ],
   "source": [
    "model = Sequential()\n",
    "model.add(LSTM(units=100, activation='relu', input_shape=(timesteps, X_train_scaled.shape[1]), return_sequences=True))\n",
    "model.add(LSTM(units=50, activation= 'relu'))\n",
    "model.add(Dense(units=1))\n",
    "\n",
    "optimizer = Adam(learning_rate= 0.0001)\n",
    "model.compile(optimizer=optimizer, loss = 'mse')\n",
    "\n",
    "model.fit(X_train_reshaped, y_train_scaled, epochs= 50, batch_size = 32)"
   ]
  },
  {
   "cell_type": "code",
   "execution_count": null,
   "metadata": {},
   "outputs": [
    {
     "name": "stdout",
     "output_type": "stream",
     "text": [
      "82/82 [==============================] - 0s 3ms/step\n"
     ]
    }
   ],
   "source": [
    "predicted_values_scaled = model.predict(X_test_reshaped)\n",
    "predicted_values = scaler_y.inverse_transform(predicted_values_scaled)\n",
    "mse = mean_squared_error(y_test_scaled, predicted_values_scaled)\n",
    "print(f\"Mean Squared Error on Test Data: {mse}\")"
   ]
  },
  {
   "cell_type": "code",
   "execution_count": null,
   "metadata": {},
   "outputs": [
    {
     "data": {
      "image/png": "[encoded data removed]",
      "text/plain": [
       "<Figure size 1000x600 with 1 Axes>"
      ]
     },
     "metadata": {},
     "output_type": "display_data"
    }
   ],
   "source": [
    "plt.figure(figsize=(10, 6))\n",
    "plt.scatter(X_test[:20], y_test[:20], label='Actual Data', color='blue')\n",
    "plt.scatter(X_test[:20], predicted_values[:20], label='Predicted Data', color='red', marker='x')\n",
    "plt.xlabel('Timestamp')\n",
    "plt.ylabel('Azimuth')\n",
    "plt.title('Actual vs Predicted Azimuth (First 10 Data Points)')\n",
    "plt.legend()\n",
    "plt.show()"
   ]
  }
 ],
 "metadata": {
  "kernelspec": {
   "display_name": "Python 3",
   "language": "python",
   "name": "python3"
  },
  "language_info": {
   "codemirror_mode": {
    "name": "ipython",
    "version": 3
   },
   "file_extension": ".py",
   "mimetype": "text/x-python",
   "name": "python",
   "nbconvert_exporter": "python",
   "pygments_lexer": "ipython3",
   "version": "3.10.12"
  }
 },
 "nbformat": 4,
 "nbformat_minor": 2
}
