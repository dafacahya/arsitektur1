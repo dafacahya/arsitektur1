{
 "cells": [
  {
   "cell_type": "code",
   "execution_count": 156,
   "metadata": {},
   "outputs": [],
   "source": [
    "import numpy as np \n",
    "import pandas as pd\n",
    "import tensorflow as tf\n",
    "import matplotlib.pyplot as plt\n",
    "from tensorflow.keras.models import Sequential\n",
    "from tensorflow.keras.layers import LSTM, Dense\n",
    "from sklearn.model_selection import train_test_split\n",
    "from sklearn.metrics import mean_absolute_error\n",
    "from sklearn.preprocessing import MinMaxScaler"
   ]
  },
  {
   "cell_type": "code",
   "execution_count": 157,
   "metadata": {},
   "outputs": [],
   "source": [
    "def load_dataset(csv_path):\n",
    "    df = pd.read_csv(csv_path, sep=';')\n",
    "    required_columns = ['Azimuth', 'Altitude', 'Timestamp']\n",
    "\n",
    "    if not all (col in df.columns for col in required_columns):\n",
    "        raise ValueError(\"Required columns are not present in the DataFrame.\")\n",
    "    \n",
    "\n",
    "    X = df[['Azimuth', 'Timestamp']].values\n",
    "    y = df[['Azimuth', 'Altitude']].values\n",
    "    return X, y, df"
   ]
  },
  {
   "cell_type": "code",
   "execution_count": 158,
   "metadata": {},
   "outputs": [],
   "source": [
    "csv_path = 'cleaned/cleaned_data_quartal_1_2020.csv'\n",
    "X, y, df = load_dataset(csv_path)"
   ]
  },
  {
   "cell_type": "code",
   "execution_count": 159,
   "metadata": {},
   "outputs": [],
   "source": [
    "X_train, X_test, y_train, y_test = train_test_split(X, y, test_size=0.2, random_state=42)"
   ]
  },
  {
   "cell_type": "code",
   "execution_count": 160,
   "metadata": {},
   "outputs": [],
   "source": [
    "scaler_X = MinMaxScaler()\n",
    "scaler_y = MinMaxScaler()\n",
    "\n",
    "X_train_scaled = scaler_X.fit_transform(X_train)\n",
    "y_train_scaled = scaler_y.fit_transform(y_train)\n",
    "X_test_scaled = scaler_X.transform(X_test)\n",
    "y_test_scaled = scaler_y.transform(y_test)"
   ]
  },
  {
   "cell_type": "code",
   "execution_count": 161,
   "metadata": {},
   "outputs": [],
   "source": [
    "timesteps = 1\n",
    "X_test_reshaped = X_test_scaled.reshape((X_test_scaled.shape[0], timesteps, X_test_scaled.shape[1]))"
   ]
  },
  {
   "cell_type": "code",
   "execution_count": 162,
   "metadata": {},
   "outputs": [
    {
     "name": "stdout",
     "output_type": "stream",
     "text": [
      "WARNING:tensorflow:Layer lstm_8 will not use cuDNN kernels since it doesn't meet the criteria. It will use a generic GPU kernel as fallback when running on GPU.\n"
     ]
    }
   ],
   "source": [
    "model = Sequential()\n",
    "model.add(LSTM(units=50, activation='relu', input_shape=(timesteps, X_test_scaled.shape[1])))\n",
    "model.add(Dense(units=2))  # Output layer dengan 2 neuron untuk Azimuth dan Altitude\n",
    "\n",
    "model.compile(optimizer='adam', loss='mse')  # Pilih optimizer dan fungsi loss yang sesuai\n"
   ]
  },
  {
   "cell_type": "code",
   "execution_count": 163,
   "metadata": {},
   "outputs": [
    {
     "name": "stdout",
     "output_type": "stream",
     "text": [
      "Epoch 1/50\n",
      "328/328 [==============================] - 4s 8ms/step - loss: 0.0900\n",
      "Epoch 2/50\n",
      "328/328 [==============================] - 2s 7ms/step - loss: 0.0390\n",
      "Epoch 3/50\n",
      "328/328 [==============================] - 2s 7ms/step - loss: 0.0373\n",
      "Epoch 4/50\n",
      "328/328 [==============================] - 2s 7ms/step - loss: 0.0371\n",
      "Epoch 5/50\n",
      "328/328 [==============================] - 2s 7ms/step - loss: 0.0371\n",
      "Epoch 6/50\n",
      "328/328 [==============================] - 2s 7ms/step - loss: 0.0370\n",
      "Epoch 7/50\n",
      "328/328 [==============================] - 2s 7ms/step - loss: 0.0369\n",
      "Epoch 8/50\n",
      "328/328 [==============================] - 2s 7ms/step - loss: 0.0368\n",
      "Epoch 9/50\n",
      "328/328 [==============================] - 3s 8ms/step - loss: 0.0366\n",
      "Epoch 10/50\n",
      "328/328 [==============================] - 3s 9ms/step - loss: 0.0362\n",
      "Epoch 11/50\n",
      "328/328 [==============================] - 2s 7ms/step - loss: 0.0354\n",
      "Epoch 12/50\n",
      "328/328 [==============================] - 2s 7ms/step - loss: 0.0347\n",
      "Epoch 13/50\n",
      "328/328 [==============================] - 2s 7ms/step - loss: 0.0337\n",
      "Epoch 14/50\n",
      "328/328 [==============================] - 2s 7ms/step - loss: 0.0329\n",
      "Epoch 15/50\n",
      "328/328 [==============================] - 2s 8ms/step - loss: 0.0319\n",
      "Epoch 16/50\n",
      "328/328 [==============================] - 2s 8ms/step - loss: 0.0310\n",
      "Epoch 17/50\n",
      "328/328 [==============================] - 3s 8ms/step - loss: 0.0300\n",
      "Epoch 18/50\n",
      "328/328 [==============================] - 3s 8ms/step - loss: 0.0289\n",
      "Epoch 19/50\n",
      "328/328 [==============================] - 2s 8ms/step - loss: 0.0279\n",
      "Epoch 20/50\n",
      "328/328 [==============================] - 2s 8ms/step - loss: 0.0270\n",
      "Epoch 21/50\n",
      "328/328 [==============================] - 3s 8ms/step - loss: 0.0261\n",
      "Epoch 22/50\n",
      "328/328 [==============================] - 3s 8ms/step - loss: 0.0255\n",
      "Epoch 23/50\n",
      "328/328 [==============================] - 2s 8ms/step - loss: 0.0249\n",
      "Epoch 24/50\n",
      "328/328 [==============================] - 2s 8ms/step - loss: 0.0244\n",
      "Epoch 25/50\n",
      "328/328 [==============================] - 3s 8ms/step - loss: 0.0239\n",
      "Epoch 26/50\n",
      "328/328 [==============================] - 3s 8ms/step - loss: 0.0236\n",
      "Epoch 27/50\n",
      "328/328 [==============================] - 2s 8ms/step - loss: 0.0232\n",
      "Epoch 28/50\n",
      "328/328 [==============================] - 3s 8ms/step - loss: 0.0228\n",
      "Epoch 29/50\n",
      "328/328 [==============================] - 2s 8ms/step - loss: 0.0227\n",
      "Epoch 30/50\n",
      "328/328 [==============================] - 3s 8ms/step - loss: 0.0225\n",
      "Epoch 31/50\n",
      "328/328 [==============================] - 3s 8ms/step - loss: 0.0222\n",
      "Epoch 32/50\n",
      "328/328 [==============================] - 2s 8ms/step - loss: 0.0222\n",
      "Epoch 33/50\n",
      "328/328 [==============================] - 2s 8ms/step - loss: 0.0220\n",
      "Epoch 34/50\n",
      "328/328 [==============================] - 3s 8ms/step - loss: 0.0219\n",
      "Epoch 35/50\n",
      "328/328 [==============================] - 3s 8ms/step - loss: 0.0218\n",
      "Epoch 36/50\n",
      "328/328 [==============================] - 3s 8ms/step - loss: 0.0217\n",
      "Epoch 37/50\n",
      "328/328 [==============================] - 3s 8ms/step - loss: 0.0216\n",
      "Epoch 38/50\n",
      "328/328 [==============================] - 3s 8ms/step - loss: 0.0215\n",
      "Epoch 39/50\n",
      "328/328 [==============================] - 3s 8ms/step - loss: 0.0215\n",
      "Epoch 40/50\n",
      "328/328 [==============================] - 3s 8ms/step - loss: 0.0214\n",
      "Epoch 41/50\n",
      "328/328 [==============================] - 3s 8ms/step - loss: 0.0213\n",
      "Epoch 42/50\n",
      "328/328 [==============================] - 3s 8ms/step - loss: 0.0213\n",
      "Epoch 43/50\n",
      "328/328 [==============================] - 3s 8ms/step - loss: 0.0213\n",
      "Epoch 44/50\n",
      "328/328 [==============================] - 3s 8ms/step - loss: 0.0213\n",
      "Epoch 45/50\n",
      "328/328 [==============================] - 3s 8ms/step - loss: 0.0212\n",
      "Epoch 46/50\n",
      "328/328 [==============================] - 3s 8ms/step - loss: 0.0213\n",
      "Epoch 47/50\n",
      "328/328 [==============================] - 3s 8ms/step - loss: 0.0212\n",
      "Epoch 48/50\n",
      "328/328 [==============================] - 2s 8ms/step - loss: 0.0212\n",
      "Epoch 49/50\n",
      "328/328 [==============================] - 3s 8ms/step - loss: 0.0211\n",
      "Epoch 50/50\n",
      "328/328 [==============================] - 3s 8ms/step - loss: 0.0211\n"
     ]
    },
    {
     "data": {
      "text/plain": [
       "<keras.src.callbacks.History at 0x7f5769e8b220>"
      ]
     },
     "execution_count": 163,
     "metadata": {},
     "output_type": "execute_result"
    }
   ],
   "source": [
    "model.fit(X_train_scaled.reshape((X_train_scaled.shape[0], timesteps, X_train_scaled.shape[1])), y_train_scaled, epochs=50, batch_size=32)"
   ]
  },
  {
   "cell_type": "code",
   "execution_count": 164,
   "metadata": {},
   "outputs": [
    {
     "name": "stdout",
     "output_type": "stream",
     "text": [
      "82/82 [==============================] - 0s 2ms/step\n"
     ]
    }
   ],
   "source": [
    "predicted_values_scaled = model.predict(X_test_reshaped)"
   ]
  },
  {
   "cell_type": "code",
   "execution_count": 165,
   "metadata": {},
   "outputs": [],
   "source": [
    "predicted_values = scaler_y.inverse_transform(predicted_values_scaled)"
   ]
  },
  {
   "cell_type": "code",
   "execution_count": 173,
   "metadata": {},
   "outputs": [
    {
     "data": {
      "image/png": "[encoded data removed]",
      "text/plain": [
       "<Figure size 1200x600 with 2 Axes>"
      ]
     },
     "metadata": {},
     "output_type": "display_data"
    }
   ],
   "source": [
    "plt.figure(figsize=(12, 6))\n",
    "plt.subplot(1,2,1)\n",
    "plt.scatter(X_test[:10, 1], y_test[:10, 1], c='blue', label='Data Asli')\n",
    "plt.scatter(X_test[:10, 1], predicted_values[:10, 1], c='red', marker='x', label='Prediksi')\n",
    "plt.xlabel('Timestamp')\n",
    "plt.ylabel('Azimuth')\n",
    "plt.title('Data Asli dan Prediksi Azimuth(10 Data Pertama)')\n",
    "plt.legend()\n",
    "plt.subplot(1, 2, 2)\n",
    "plt.scatter(X_test[:10, 1], y_test[:10, 1], c='blue', label='Data Asli')\n",
    "plt.scatter(X_test[:10, 1], predicted_values[:10, 1], c='red', marker='x', label='Prediksi')\n",
    "plt.xlabel('Timestamp')\n",
    "plt.ylabel('Altitude')\n",
    "plt.title('Data Asli dan Prediksi Altitude (10 Data Pertama)')\n",
    "plt.legend()\n",
    "\n",
    "plt.tight_layout()\n",
    "plt.show()"
   ]
  }
 ],
 "metadata": {
  "kernelspec": {
   "display_name": "Python 3",
   "language": "python",
   "name": "python3"
  },
  "language_info": {
   "codemirror_mode": {
    "name": "ipython",
    "version": 3
   },
   "file_extension": ".py",
   "mimetype": "text/x-python",
   "name": "python",
   "nbconvert_exporter": "python",
   "pygments_lexer": "ipython3",
   "version": "3.10.12"
  }
 },
 "nbformat": 4,
 "nbformat_minor": 2
}
