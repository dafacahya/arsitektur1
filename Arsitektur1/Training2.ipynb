{
 "cells": [
  {
   "cell_type": "code",
   "execution_count": 1,
   "metadata": {},
   "outputs": [
    {
     "name": "stderr",
     "output_type": "stream",
     "text": [
      "/tmp/ipykernel_18136/4101786243.py:2: DeprecationWarning: \n",
      "Pyarrow will become a required dependency of pandas in the next major release of pandas (pandas 3.0),\n",
      "(to allow more performant data types, such as the Arrow string type, and better interoperability with other libraries)\n",
      "but was not found to be installed on your system.\n",
      "If this would cause problems for you,\n",
      "please provide us feedback at https://github.com/pandas-dev/pandas/issues/54466\n",
      "        \n",
      "  import pandas as pd\n",
      "2024-02-28 18:23:41.275399: E external/local_xla/xla/stream_executor/cuda/cuda_dnn.cc:9261] Unable to register cuDNN factory: Attempting to register factory for plugin cuDNN when one has already been registered\n",
      "2024-02-28 18:23:41.275632: E external/local_xla/xla/stream_executor/cuda/cuda_fft.cc:607] Unable to register cuFFT factory: Attempting to register factory for plugin cuFFT when one has already been registered\n",
      "2024-02-28 18:23:41.294190: E external/local_xla/xla/stream_executor/cuda/cuda_blas.cc:1515] Unable to register cuBLAS factory: Attempting to register factory for plugin cuBLAS when one has already been registered\n",
      "2024-02-28 18:23:41.413388: I tensorflow/core/platform/cpu_feature_guard.cc:182] This TensorFlow binary is optimized to use available CPU instructions in performance-critical operations.\n",
      "To enable the following instructions: AVX2 FMA, in other operations, rebuild TensorFlow with the appropriate compiler flags.\n",
      "2024-02-28 18:23:43.865451: W tensorflow/compiler/tf2tensorrt/utils/py_utils.cc:38] TF-TRT Warning: Could not find TensorRT\n"
     ]
    }
   ],
   "source": [
    "import numpy as np \n",
    "import pandas as pd\n",
    "import tensorflow as tf\n",
    "import matplotlib.pyplot as plt\n",
    "from tensorflow.keras.models import Sequential\n",
    "from tensorflow.keras.layers import LSTM, Dense\n",
    "from sklearn.model_selection import train_test_split\n",
    "from sklearn.metrics import mean_absolute_error\n",
    "from sklearn.preprocessing import MinMaxScaler"
   ]
  },
  {
   "cell_type": "code",
   "execution_count": 2,
   "metadata": {},
   "outputs": [],
   "source": [
    "def load_dataset(csv_path):\n",
    "    df = pd.read_csv(csv_path, sep=';')\n",
    "    required_columns = ['Azimuth', 'Altitude', 'Timestamp']\n",
    "\n",
    "    if not all (col in df.columns for col in required_columns):\n",
    "        raise ValueError(\"Required columns are not present in the DataFrame.\")\n",
    "    \n",
    "\n",
    "    X = df[['Azimuth', 'Timestamp']].values\n",
    "    y = df[['Azimuth', 'Altitude']].values\n",
    "    return X, y, df"
   ]
  },
  {
   "cell_type": "code",
   "execution_count": 3,
   "metadata": {},
   "outputs": [],
   "source": [
    "csv_path = 'cleaned/cleaned_data_quartal_1_2020.csv'\n",
    "X, y, df = load_dataset(csv_path)"
   ]
  },
  {
   "cell_type": "code",
   "execution_count": 4,
   "metadata": {},
   "outputs": [],
   "source": [
    "X_train, X_test, y_train, y_test = train_test_split(X, y, test_size=0.2, random_state=42)"
   ]
  },
  {
   "cell_type": "code",
   "execution_count": 5,
   "metadata": {},
   "outputs": [],
   "source": [
    "scaler_X = MinMaxScaler()\n",
    "scaler_y = MinMaxScaler()\n",
    "\n",
    "X_train_scaled = scaler_X.fit_transform(X_train)\n",
    "y_train_scaled = scaler_y.fit_transform(y_train)\n",
    "X_test_scaled = scaler_X.transform(X_test)\n",
    "y_test_scaled = scaler_y.transform(y_test)"
   ]
  },
  {
   "cell_type": "code",
   "execution_count": 6,
   "metadata": {},
   "outputs": [],
   "source": [
    "timesteps = 1\n",
    "X_test_reshaped = X_test_scaled.reshape((X_test_scaled.shape[0], timesteps, X_test_scaled.shape[1]))"
   ]
  },
  {
   "cell_type": "code",
   "execution_count": 7,
   "metadata": {},
   "outputs": [
    {
     "name": "stderr",
     "output_type": "stream",
     "text": [
      "2024-02-28 18:23:48.314633: I external/local_xla/xla/stream_executor/cuda/cuda_executor.cc:887] could not open file to read NUMA node: /sys/bus/pci/devices/0000:01:00.0/numa_node\n",
      "Your kernel may have been built without NUMA support.\n",
      "2024-02-28 18:23:48.741868: I external/local_xla/xla/stream_executor/cuda/cuda_executor.cc:887] could not open file to read NUMA node: /sys/bus/pci/devices/0000:01:00.0/numa_node\n",
      "Your kernel may have been built without NUMA support.\n",
      "2024-02-28 18:23:48.741930: I external/local_xla/xla/stream_executor/cuda/cuda_executor.cc:887] could not open file to read NUMA node: /sys/bus/pci/devices/0000:01:00.0/numa_node\n",
      "Your kernel may have been built without NUMA support.\n",
      "2024-02-28 18:23:48.760173: I external/local_xla/xla/stream_executor/cuda/cuda_executor.cc:887] could not open file to read NUMA node: /sys/bus/pci/devices/0000:01:00.0/numa_node\n",
      "Your kernel may have been built without NUMA support.\n",
      "2024-02-28 18:23:48.760274: I external/local_xla/xla/stream_executor/cuda/cuda_executor.cc:887] could not open file to read NUMA node: /sys/bus/pci/devices/0000:01:00.0/numa_node\n",
      "Your kernel may have been built without NUMA support.\n",
      "2024-02-28 18:23:48.760316: I external/local_xla/xla/stream_executor/cuda/cuda_executor.cc:887] could not open file to read NUMA node: /sys/bus/pci/devices/0000:01:00.0/numa_node\n",
      "Your kernel may have been built without NUMA support.\n",
      "2024-02-28 18:23:49.028238: I external/local_xla/xla/stream_executor/cuda/cuda_executor.cc:887] could not open file to read NUMA node: /sys/bus/pci/devices/0000:01:00.0/numa_node\n",
      "Your kernel may have been built without NUMA support.\n",
      "2024-02-28 18:23:49.028375: I external/local_xla/xla/stream_executor/cuda/cuda_executor.cc:887] could not open file to read NUMA node: /sys/bus/pci/devices/0000:01:00.0/numa_node\n",
      "Your kernel may have been built without NUMA support.\n",
      "2024-02-28 18:23:49.028389: I tensorflow/core/common_runtime/gpu/gpu_device.cc:2022] Could not identify NUMA node of platform GPU id 0, defaulting to 0.  Your kernel may not have been built with NUMA support.\n",
      "2024-02-28 18:23:49.028440: I external/local_xla/xla/stream_executor/cuda/cuda_executor.cc:887] could not open file to read NUMA node: /sys/bus/pci/devices/0000:01:00.0/numa_node\n",
      "Your kernel may have been built without NUMA support.\n",
      "2024-02-28 18:23:49.028518: I tensorflow/core/common_runtime/gpu/gpu_device.cc:1929] Created device /job:localhost/replica:0/task:0/device:GPU:0 with 4080 MB memory:  -> device: 0, name: NVIDIA GeForce GTX 1660 Ti with Max-Q Design, pci bus id: 0000:01:00.0, compute capability: 7.5\n"
     ]
    },
    {
     "name": "stdout",
     "output_type": "stream",
     "text": [
      "WARNING:tensorflow:Layer lstm will not use cuDNN kernels since it doesn't meet the criteria. It will use a generic GPU kernel as fallback when running on GPU.\n"
     ]
    },
    {
     "name": "stderr",
     "output_type": "stream",
     "text": [
      "2024-02-28 18:23:49.809245: I external/local_tsl/tsl/platform/default/subprocess.cc:304] Start cannot spawn child process: No such file or directory\n"
     ]
    }
   ],
   "source": [
    "model = Sequential()\n",
    "model.add(LSTM(units=50, activation='relu', input_shape=(timesteps, X_test_scaled.shape[1])))\n",
    "model.add(Dense(units=2))  # Output layer dengan 2 neuron untuk Azimuth dan Altitude\n",
    "\n",
    "model.compile(optimizer='adam', loss='mse')  # Pilih optimizer dan fungsi loss yang sesuai\n"
   ]
  },
  {
   "cell_type": "code",
   "execution_count": 8,
   "metadata": {},
   "outputs": [
    {
     "name": "stdout",
     "output_type": "stream",
     "text": [
      "Epoch 1/50\n"
     ]
    },
    {
     "name": "stderr",
     "output_type": "stream",
     "text": [
      "2024-02-28 18:23:51.677298: I external/local_xla/xla/service/service.cc:168] XLA service 0x7f7e6152ac30 initialized for platform CUDA (this does not guarantee that XLA will be used). Devices:\n",
      "2024-02-28 18:23:51.677341: I external/local_xla/xla/service/service.cc:176]   StreamExecutor device (0): NVIDIA GeForce GTX 1660 Ti with Max-Q Design, Compute Capability 7.5\n",
      "2024-02-28 18:23:51.690605: I tensorflow/compiler/mlir/tensorflow/utils/dump_mlir_util.cc:269] disabling MLIR crash reproducer, set env var `MLIR_CRASH_REPRODUCER_DIRECTORY` to enable.\n",
      "2024-02-28 18:23:51.722251: I external/local_xla/xla/stream_executor/cuda/cuda_dnn.cc:454] Loaded cuDNN version 8904\n",
      "WARNING: All log messages before absl::InitializeLog() is called are written to STDERR\n",
      "I0000 00:00:1709119431.812561   18253 device_compiler.h:186] Compiled cluster using XLA!  This line is logged at most once for the lifetime of the process.\n"
     ]
    },
    {
     "name": "stdout",
     "output_type": "stream",
     "text": [
      "328/328 [==============================] - 4s 7ms/step - loss: 0.0880\n",
      "Epoch 2/50\n",
      "328/328 [==============================] - 3s 8ms/step - loss: 0.0403\n",
      "Epoch 3/50\n",
      "328/328 [==============================] - 2s 7ms/step - loss: 0.0369\n",
      "Epoch 4/50\n",
      "328/328 [==============================] - 2s 7ms/step - loss: 0.0365\n",
      "Epoch 5/50\n",
      "328/328 [==============================] - 2s 7ms/step - loss: 0.0362\n",
      "Epoch 6/50\n",
      "328/328 [==============================] - 3s 8ms/step - loss: 0.0353\n",
      "Epoch 7/50\n",
      "328/328 [==============================] - 3s 8ms/step - loss: 0.0342\n",
      "Epoch 8/50\n",
      "328/328 [==============================] - 2s 7ms/step - loss: 0.0327\n",
      "Epoch 9/50\n",
      "328/328 [==============================] - 3s 8ms/step - loss: 0.0308\n",
      "Epoch 10/50\n",
      "328/328 [==============================] - 3s 8ms/step - loss: 0.0289\n",
      "Epoch 11/50\n",
      "328/328 [==============================] - 3s 8ms/step - loss: 0.0274\n",
      "Epoch 12/50\n",
      "328/328 [==============================] - 3s 8ms/step - loss: 0.0263\n",
      "Epoch 13/50\n",
      "328/328 [==============================] - 3s 8ms/step - loss: 0.0254\n",
      "Epoch 14/50\n",
      "328/328 [==============================] - 3s 8ms/step - loss: 0.0248\n",
      "Epoch 15/50\n",
      "328/328 [==============================] - 3s 8ms/step - loss: 0.0243\n",
      "Epoch 16/50\n",
      "328/328 [==============================] - 3s 8ms/step - loss: 0.0239\n",
      "Epoch 17/50\n",
      "328/328 [==============================] - 3s 8ms/step - loss: 0.0236\n",
      "Epoch 18/50\n",
      "328/328 [==============================] - 2s 8ms/step - loss: 0.0233\n",
      "Epoch 19/50\n",
      "328/328 [==============================] - 2s 7ms/step - loss: 0.0231\n",
      "Epoch 20/50\n",
      "328/328 [==============================] - 2s 7ms/step - loss: 0.0229\n",
      "Epoch 21/50\n",
      "328/328 [==============================] - 3s 8ms/step - loss: 0.0227\n",
      "Epoch 22/50\n",
      "328/328 [==============================] - 3s 8ms/step - loss: 0.0226\n",
      "Epoch 23/50\n",
      "328/328 [==============================] - 3s 8ms/step - loss: 0.0224\n",
      "Epoch 24/50\n",
      "328/328 [==============================] - 3s 8ms/step - loss: 0.0224\n",
      "Epoch 25/50\n",
      "328/328 [==============================] - 2s 7ms/step - loss: 0.0222\n",
      "Epoch 26/50\n",
      "328/328 [==============================] - 3s 8ms/step - loss: 0.0222\n",
      "Epoch 27/50\n",
      "328/328 [==============================] - 3s 8ms/step - loss: 0.0221\n",
      "Epoch 28/50\n",
      "328/328 [==============================] - 3s 8ms/step - loss: 0.0220\n",
      "Epoch 29/50\n",
      "328/328 [==============================] - 3s 8ms/step - loss: 0.0219\n",
      "Epoch 30/50\n",
      "328/328 [==============================] - 3s 8ms/step - loss: 0.0219\n",
      "Epoch 31/50\n",
      "328/328 [==============================] - 3s 8ms/step - loss: 0.0219\n",
      "Epoch 32/50\n",
      "328/328 [==============================] - 3s 8ms/step - loss: 0.0218\n",
      "Epoch 33/50\n",
      "328/328 [==============================] - 3s 8ms/step - loss: 0.0218\n",
      "Epoch 34/50\n",
      "328/328 [==============================] - 3s 9ms/step - loss: 0.0217\n",
      "Epoch 35/50\n",
      "328/328 [==============================] - 3s 9ms/step - loss: 0.0217\n",
      "Epoch 36/50\n",
      "328/328 [==============================] - 3s 8ms/step - loss: 0.0216\n",
      "Epoch 37/50\n",
      "328/328 [==============================] - 3s 9ms/step - loss: 0.0216\n",
      "Epoch 38/50\n",
      "328/328 [==============================] - 3s 8ms/step - loss: 0.0216\n",
      "Epoch 39/50\n",
      "328/328 [==============================] - 3s 9ms/step - loss: 0.0216\n",
      "Epoch 40/50\n",
      "328/328 [==============================] - 3s 8ms/step - loss: 0.0216\n",
      "Epoch 41/50\n",
      "328/328 [==============================] - 3s 8ms/step - loss: 0.0215\n",
      "Epoch 42/50\n",
      "328/328 [==============================] - 2s 8ms/step - loss: 0.0215\n",
      "Epoch 43/50\n",
      "328/328 [==============================] - 2s 8ms/step - loss: 0.0215\n",
      "Epoch 44/50\n",
      "328/328 [==============================] - 3s 8ms/step - loss: 0.0215\n",
      "Epoch 45/50\n",
      "328/328 [==============================] - 2s 8ms/step - loss: 0.0214\n",
      "Epoch 46/50\n",
      "328/328 [==============================] - 2s 8ms/step - loss: 0.0214\n",
      "Epoch 47/50\n",
      "328/328 [==============================] - 2s 8ms/step - loss: 0.0214\n",
      "Epoch 48/50\n",
      "328/328 [==============================] - 2s 8ms/step - loss: 0.0213\n",
      "Epoch 49/50\n",
      "328/328 [==============================] - 2s 8ms/step - loss: 0.0213\n",
      "Epoch 50/50\n",
      "328/328 [==============================] - 2s 7ms/step - loss: 0.0214\n"
     ]
    },
    {
     "data": {
      "text/plain": [
       "<keras.src.callbacks.History at 0x7f7f460f2b90>"
      ]
     },
     "execution_count": 8,
     "metadata": {},
     "output_type": "execute_result"
    }
   ],
   "source": [
    "model.fit(X_train_scaled.reshape((X_train_scaled.shape[0], timesteps, X_train_scaled.shape[1])), y_train_scaled, epochs=50, batch_size=32)"
   ]
  },
  {
   "cell_type": "code",
   "execution_count": 9,
   "metadata": {},
   "outputs": [
    {
     "name": "stdout",
     "output_type": "stream",
     "text": [
      "82/82 [==============================] - 0s 2ms/step\n"
     ]
    }
   ],
   "source": [
    "predicted_values_scaled = model.predict(X_test_reshaped)"
   ]
  },
  {
   "cell_type": "code",
   "execution_count": 10,
   "metadata": {},
   "outputs": [],
   "source": [
    "predicted_values = scaler_y.inverse_transform(predicted_values_scaled)"
   ]
  },
  {
   "cell_type": "code",
   "execution_count": 11,
   "metadata": {},
   "outputs": [
    {
     "data": {
      "image/png": "[encoded data removed]",
      "text/plain": [
       "<Figure size 1200x600 with 2 Axes>"
      ]
     },
     "metadata": {},
     "output_type": "display_data"
    }
   ],
   "source": [
    "plt.figure(figsize=(12, 6))\n",
    "plt.subplot(1,2,1)\n",
    "plt.scatter(X_test[:10, 1], y_test[:10, 1], c='blue', label='Data Asli')\n",
    "plt.scatter(X_test[:10, 1], predicted_values[:10, 1], c='red', marker='x', label='Prediksi')\n",
    "plt.xlabel('Timestamp')\n",
    "plt.ylabel('Azimuth')\n",
    "plt.title('Data Asli dan Prediksi Azimuth(10 Data Pertama)')\n",
    "plt.legend()\n",
    "plt.subplot(1, 2, 2)\n",
    "plt.scatter(X_test[:10, 1], y_test[:10, 1], c='blue', label='Data Asli')\n",
    "plt.scatter(X_test[:10, 1], predicted_values[:10, 1], c='red', marker='x', label='Prediksi')\n",
    "plt.xlabel('Timestamp')\n",
    "plt.ylabel('Altitude')\n",
    "plt.title('Data Asli dan Prediksi Altitude (10 Data Pertama)')\n",
    "plt.legend()\n",
    "\n",
    "plt.tight_layout()\n",
    "plt.show()"
   ]
  }
 ],
 "metadata": {
  "kernelspec": {
   "display_name": "Python 3",
   "language": "python",
   "name": "python3"
  },
  "language_info": {
   "codemirror_mode": {
    "name": "ipython",
    "version": 3
   },
   "file_extension": ".py",
   "mimetype": "text/x-python",
   "name": "python",
   "nbconvert_exporter": "python",
   "pygments_lexer": "ipython3",
   "version": "3.10.12"
  }
 },
 "nbformat": 4,
 "nbformat_minor": 2
}
