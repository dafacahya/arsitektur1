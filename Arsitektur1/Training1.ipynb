{
 "cells": [
  {
   "cell_type": "code",
   "execution_count": 1,
   "metadata": {},
   "outputs": [
    {
     "name": "stderr",
     "output_type": "stream",
     "text": [
      "/tmp/ipykernel_3253/2324892354.py:1: DeprecationWarning: \n",
      "Pyarrow will become a required dependency of pandas in the next major release of pandas (pandas 3.0),\n",
      "(to allow more performant data types, such as the Arrow string type, and better interoperability with other libraries)\n",
      "but was not found to be installed on your system.\n",
      "If this would cause problems for you,\n",
      "please provide us feedback at https://github.com/pandas-dev/pandas/issues/54466\n",
      "        \n",
      "  import pandas as pd\n",
      "2024-02-28 16:42:18.404705: E external/local_xla/xla/stream_executor/cuda/cuda_dnn.cc:9261] Unable to register cuDNN factory: Attempting to register factory for plugin cuDNN when one has already been registered\n",
      "2024-02-28 16:42:18.404809: E external/local_xla/xla/stream_executor/cuda/cuda_fft.cc:607] Unable to register cuFFT factory: Attempting to register factory for plugin cuFFT when one has already been registered\n",
      "2024-02-28 16:42:18.791926: E external/local_xla/xla/stream_executor/cuda/cuda_blas.cc:1515] Unable to register cuBLAS factory: Attempting to register factory for plugin cuBLAS when one has already been registered\n",
      "2024-02-28 16:42:19.649305: I tensorflow/core/platform/cpu_feature_guard.cc:182] This TensorFlow binary is optimized to use available CPU instructions in performance-critical operations.\n",
      "To enable the following instructions: AVX2 FMA, in other operations, rebuild TensorFlow with the appropriate compiler flags.\n",
      "2024-02-28 16:42:23.248950: W tensorflow/compiler/tf2tensorrt/utils/py_utils.cc:38] TF-TRT Warning: Could not find TensorRT\n"
     ]
    }
   ],
   "source": [
    "import pandas as pd \n",
    "import numpy as np \n",
    "import tensorflow as tf \n",
    "from sklearn.model_selection import train_test_split\n",
    "from sklearn.metrics import mean_squared_error\n",
    "import matplotlib.pyplot as plt"
   ]
  },
  {
   "cell_type": "code",
   "execution_count": 2,
   "metadata": {},
   "outputs": [],
   "source": [
    "def load_dataset(csv_path):\n",
    "    df = pd.read_csv(csv_path, sep=';')\n",
    "    required_columns = ['Azimuth', 'Altitude','Timestamp']\n",
    "\n",
    "    if not all(col in df.columns for col in required_columns):\n",
    "        raise ValueError(\"Reguired columns are not present in the DataFrame.\")\n",
    "\n",
    "    X = df[['Azimuth','Altitude']].values\n",
    "    y = df['Timestamp'].values\n",
    "    return X,y, df"
   ]
  },
  {
   "cell_type": "code",
   "execution_count": 3,
   "metadata": {},
   "outputs": [],
   "source": [
    "csv_path = 'cleaned/cleaned_data_quartal_1_2020.csv'"
   ]
  },
  {
   "cell_type": "code",
   "execution_count": 4,
   "metadata": {},
   "outputs": [],
   "source": [
    "X, y, df = load_dataset(csv_path)"
   ]
  },
  {
   "cell_type": "code",
   "execution_count": 5,
   "metadata": {},
   "outputs": [],
   "source": [
    "X_train, X_test, y_train, y_test = train_test_split(X, y, test_size=0.2, random_state=42)"
   ]
  },
  {
   "cell_type": "code",
   "execution_count": 6,
   "metadata": {},
   "outputs": [],
   "source": [
    "X_train_normalized = (X_train - X_train.mean()) / X_train.std()\n",
    "X_test_normalized = (X_test - X_train.mean()) / X_train.std()"
   ]
  },
  {
   "cell_type": "code",
   "execution_count": 7,
   "metadata": {},
   "outputs": [
    {
     "name": "stderr",
     "output_type": "stream",
     "text": [
      "2024-02-28 16:42:32.751418: I external/local_xla/xla/stream_executor/cuda/cuda_executor.cc:887] could not open file to read NUMA node: /sys/bus/pci/devices/0000:01:00.0/numa_node\n",
      "Your kernel may have been built without NUMA support.\n",
      "2024-02-28 16:42:35.265191: I external/local_xla/xla/stream_executor/cuda/cuda_executor.cc:887] could not open file to read NUMA node: /sys/bus/pci/devices/0000:01:00.0/numa_node\n",
      "Your kernel may have been built without NUMA support.\n",
      "2024-02-28 16:42:35.265421: I external/local_xla/xla/stream_executor/cuda/cuda_executor.cc:887] could not open file to read NUMA node: /sys/bus/pci/devices/0000:01:00.0/numa_node\n",
      "Your kernel may have been built without NUMA support.\n",
      "2024-02-28 16:42:35.272704: I external/local_xla/xla/stream_executor/cuda/cuda_executor.cc:887] could not open file to read NUMA node: /sys/bus/pci/devices/0000:01:00.0/numa_node\n",
      "Your kernel may have been built without NUMA support.\n",
      "2024-02-28 16:42:35.272916: I external/local_xla/xla/stream_executor/cuda/cuda_executor.cc:887] could not open file to read NUMA node: /sys/bus/pci/devices/0000:01:00.0/numa_node\n",
      "Your kernel may have been built without NUMA support.\n",
      "2024-02-28 16:42:35.273030: I external/local_xla/xla/stream_executor/cuda/cuda_executor.cc:887] could not open file to read NUMA node: /sys/bus/pci/devices/0000:01:00.0/numa_node\n",
      "Your kernel may have been built without NUMA support.\n",
      "2024-02-28 16:42:35.533694: I external/local_xla/xla/stream_executor/cuda/cuda_executor.cc:887] could not open file to read NUMA node: /sys/bus/pci/devices/0000:01:00.0/numa_node\n",
      "Your kernel may have been built without NUMA support.\n",
      "2024-02-28 16:42:35.533798: I external/local_xla/xla/stream_executor/cuda/cuda_executor.cc:887] could not open file to read NUMA node: /sys/bus/pci/devices/0000:01:00.0/numa_node\n",
      "Your kernel may have been built without NUMA support.\n",
      "2024-02-28 16:42:35.533808: I tensorflow/core/common_runtime/gpu/gpu_device.cc:2022] Could not identify NUMA node of platform GPU id 0, defaulting to 0.  Your kernel may not have been built with NUMA support.\n",
      "2024-02-28 16:42:35.533859: I external/local_xla/xla/stream_executor/cuda/cuda_executor.cc:887] could not open file to read NUMA node: /sys/bus/pci/devices/0000:01:00.0/numa_node\n",
      "Your kernel may have been built without NUMA support.\n",
      "2024-02-28 16:42:35.533878: I tensorflow/core/common_runtime/gpu/gpu_device.cc:1929] Created device /job:localhost/replica:0/task:0/device:GPU:0 with 4080 MB memory:  -> device: 0, name: NVIDIA GeForce GTX 1660 Ti with Max-Q Design, pci bus id: 0000:01:00.0, compute capability: 7.5\n"
     ]
    }
   ],
   "source": [
    "model = tf.keras.Sequential([\n",
    "    tf.keras.layers.Dense(1024, activation='relu', input_shape=(2,)),\n",
    "    tf.keras.layers.Dense(512, activation='relu'),\n",
    "    tf.keras.layers.Dense(1)\n",
    "])"
   ]
  },
  {
   "cell_type": "code",
   "execution_count": 8,
   "metadata": {},
   "outputs": [
    {
     "name": "stdout",
     "output_type": "stream",
     "text": [
      "Epoch 1/80\n"
     ]
    },
    {
     "name": "stderr",
     "output_type": "stream",
     "text": [
      "2024-02-28 16:42:40.472139: I external/local_tsl/tsl/platform/default/subprocess.cc:304] Start cannot spawn child process: No such file or directory\n",
      "2024-02-28 16:42:42.763007: I external/local_xla/xla/service/service.cc:168] XLA service 0x55f201b37270 initialized for platform CUDA (this does not guarantee that XLA will be used). Devices:\n",
      "2024-02-28 16:42:42.763126: I external/local_xla/xla/service/service.cc:176]   StreamExecutor device (0): NVIDIA GeForce GTX 1660 Ti with Max-Q Design, Compute Capability 7.5\n",
      "2024-02-28 16:42:42.950254: I tensorflow/compiler/mlir/tensorflow/utils/dump_mlir_util.cc:269] disabling MLIR crash reproducer, set env var `MLIR_CRASH_REPRODUCER_DIRECTORY` to enable.\n",
      "2024-02-28 16:42:43.319524: I external/local_xla/xla/stream_executor/cuda/cuda_dnn.cc:454] Loaded cuDNN version 8904\n",
      "WARNING: All log messages before absl::InitializeLog() is called are written to STDERR\n",
      "I0000 00:00:1709113363.597322    3353 device_compiler.h:186] Compiled cluster using XLA!  This line is logged at most once for the lifetime of the process.\n"
     ]
    },
    {
     "name": "stdout",
     "output_type": "stream",
     "text": [
      "263/263 [==============================] - 10s 8ms/step - loss: 2501997532876374016.0000 - val_loss: 2501797421760118784.0000\n",
      "Epoch 2/80\n",
      "263/263 [==============================] - 1s 5ms/step - loss: 2501148709899730944.0000 - val_loss: 2500032155841724416.0000\n",
      "Epoch 3/80\n",
      "263/263 [==============================] - 2s 6ms/step - loss: 2497987064214061056.0000 - val_loss: 2495270170981826560.0000\n",
      "Epoch 4/80\n",
      "263/263 [==============================] - 1s 5ms/step - loss: 2491274820604395520.0000 - val_loss: 2486474627715432448.0000\n",
      "Epoch 5/80\n",
      "263/263 [==============================] - 1s 6ms/step - loss: 2480111204169678848.0000 - val_loss: 2472891261065887744.0000\n",
      "Epoch 6/80\n",
      "263/263 [==============================] - 1s 6ms/step - loss: 2463876640107659264.0000 - val_loss: 2454002750812323840.0000\n",
      "Epoch 7/80\n",
      "263/263 [==============================] - 2s 6ms/step - loss: 2442102736464904192.0000 - val_loss: 2429435537879203840.0000\n",
      "Epoch 8/80\n",
      "263/263 [==============================] - 1s 5ms/step - loss: 2414530558253072384.0000 - val_loss: 2398978790911901696.0000\n",
      "Epoch 9/80\n",
      "263/263 [==============================] - 1s 5ms/step - loss: 2380968515571023872.0000 - val_loss: 2362527506549964800.0000\n",
      "Epoch 10/80\n",
      "263/263 [==============================] - 1s 5ms/step - loss: 2341373177709461504.0000 - val_loss: 2320025334822469632.0000\n",
      "Epoch 11/80\n",
      "263/263 [==============================] - 2s 6ms/step - loss: 2295738772232339456.0000 - val_loss: 2271549791299174400.0000\n",
      "Epoch 12/80\n",
      "263/263 [==============================] - 1s 5ms/step - loss: 2244173051279179776.0000 - val_loss: 2217225120794017792.0000\n",
      "Epoch 13/80\n",
      "263/263 [==============================] - 2s 6ms/step - loss: 2186768786143576064.0000 - val_loss: 2157163610931986432.0000\n",
      "Epoch 14/80\n",
      "263/263 [==============================] - 1s 6ms/step - loss: 2123808001558052864.0000 - val_loss: 2091732361157804032.0000\n",
      "Epoch 15/80\n",
      "263/263 [==============================] - 1s 5ms/step - loss: 2055579731641761792.0000 - val_loss: 2021091625291218944.0000\n",
      "Epoch 16/80\n",
      "263/263 [==============================] - 1s 6ms/step - loss: 1982295632383049728.0000 - val_loss: 1945647810317647872.0000\n",
      "Epoch 17/80\n",
      "263/263 [==============================] - 1s 5ms/step - loss: 1904372006371983360.0000 - val_loss: 1865773513239953408.0000\n",
      "Epoch 18/80\n",
      "263/263 [==============================] - 1s 5ms/step - loss: 1822350363085242368.0000 - val_loss: 1782005845488304128.0000\n",
      "Epoch 19/80\n",
      "263/263 [==============================] - 2s 6ms/step - loss: 1736580209781506048.0000 - val_loss: 1694731835155677184.0000\n",
      "Epoch 20/80\n",
      "263/263 [==============================] - 1s 5ms/step - loss: 1647545331576995840.0000 - val_loss: 1604427021021085696.0000\n",
      "Epoch 21/80\n",
      "263/263 [==============================] - 1s 5ms/step - loss: 1555794522212925440.0000 - val_loss: 1511713176910036992.0000\n",
      "Epoch 22/80\n",
      "263/263 [==============================] - 1s 6ms/step - loss: 1461939934788059136.0000 - val_loss: 1417263753694543872.0000\n",
      "Epoch 23/80\n",
      "263/263 [==============================] - 1s 6ms/step - loss: 1366748341223817216.0000 - val_loss: 1321804016732078080.0000\n",
      "Epoch 24/80\n",
      "263/263 [==============================] - 1s 5ms/step - loss: 1270912846162558976.0000 - val_loss: 1225997796167909376.0000\n",
      "Epoch 25/80\n",
      "263/263 [==============================] - 1s 5ms/step - loss: 1175194174211751936.0000 - val_loss: 1130631723852234752.0000\n",
      "Epoch 26/80\n",
      "263/263 [==============================] - 1s 5ms/step - loss: 1080348102176538624.0000 - val_loss: 1036490988526239744.0000\n",
      "Epoch 27/80\n",
      "263/263 [==============================] - 2s 6ms/step - loss: 987145387707990016.0000 - val_loss: 944374110509596672.0000\n",
      "Epoch 28/80\n",
      "263/263 [==============================] - 1s 5ms/step - loss: 896385032162115584.0000 - val_loss: 855067378055118848.0000\n",
      "Epoch 29/80\n",
      "263/263 [==============================] - 1s 6ms/step - loss: 808939154418171904.0000 - val_loss: 769404702012997632.0000\n",
      "Epoch 30/80\n",
      "263/263 [==============================] - 2s 6ms/step - loss: 725603800894668800.0000 - val_loss: 688184259105521664.0000\n",
      "Epoch 31/80\n",
      "263/263 [==============================] - 1s 6ms/step - loss: 647129113399656448.0000 - val_loss: 612105270008479744.0000\n",
      "Epoch 32/80\n",
      "263/263 [==============================] - 1s 5ms/step - loss: 574232763788427264.0000 - val_loss: 541933132253757440.0000\n",
      "Epoch 33/80\n",
      "263/263 [==============================] - 1s 6ms/step - loss: 507533399150297088.0000 - val_loss: 478155135650889728.0000\n",
      "Epoch 34/80\n",
      "263/263 [==============================] - 1s 5ms/step - loss: 447562152320958464.0000 - val_loss: 421304027943272448.0000\n",
      "Epoch 35/80\n",
      "263/263 [==============================] - 1s 5ms/step - loss: 394782020774920192.0000 - val_loss: 371670011481161728.0000\n",
      "Epoch 36/80\n",
      "263/263 [==============================] - 1s 5ms/step - loss: 349386071882072064.0000 - val_loss: 329434540042878976.0000\n",
      "Epoch 37/80\n",
      "263/263 [==============================] - 2s 6ms/step - loss: 311234358428041216.0000 - val_loss: 294357198539063296.0000\n",
      "Epoch 38/80\n",
      "263/263 [==============================] - 1s 6ms/step - loss: 280266201114869760.0000 - val_loss: 266227482032603136.0000\n",
      "Epoch 39/80\n",
      "263/263 [==============================] - 2s 7ms/step - loss: 255864584940814336.0000 - val_loss: 244293376109707264.0000\n",
      "Epoch 40/80\n",
      "263/263 [==============================] - 2s 6ms/step - loss: 237331182583283712.0000 - val_loss: 227813998911815680.0000\n",
      "Epoch 41/80\n",
      "263/263 [==============================] - 2s 6ms/step - loss: 223583782542770176.0000 - val_loss: 215610124218138624.0000\n",
      "Epoch 42/80\n",
      "263/263 [==============================] - 2s 6ms/step - loss: 213549690967293952.0000 - val_loss: 206577807994650624.0000\n",
      "Epoch 43/80\n",
      "263/263 [==============================] - 2s 6ms/step - loss: 206041211960557568.0000 - val_loss: 199633825129562112.0000\n",
      "Epoch 44/80\n",
      "263/263 [==============================] - 1s 6ms/step - loss: 200099055987064832.0000 - val_loss: 193930984733802496.0000\n",
      "Epoch 45/80\n",
      "263/263 [==============================] - 2s 6ms/step - loss: 194975194362675200.0000 - val_loss: 188861085078519808.0000\n",
      "Epoch 46/80\n",
      "263/263 [==============================] - 2s 6ms/step - loss: 190259406171013120.0000 - val_loss: 184137205168472064.0000\n",
      "Epoch 47/80\n",
      "263/263 [==============================] - 1s 6ms/step - loss: 185700813782384640.0000 - val_loss: 179522881284210688.0000\n",
      "Epoch 48/80\n",
      "263/263 [==============================] - 1s 5ms/step - loss: 181288834397372416.0000 - val_loss: 175128975121580032.0000\n",
      "Epoch 49/80\n",
      "263/263 [==============================] - 2s 6ms/step - loss: 176945729107918848.0000 - val_loss: 170759326934237184.0000\n",
      "Epoch 50/80\n",
      "263/263 [==============================] - 1s 6ms/step - loss: 172659557904941056.0000 - val_loss: 166507567009234944.0000\n",
      "Epoch 51/80\n",
      "263/263 [==============================] - 2s 6ms/step - loss: 168387817792077824.0000 - val_loss: 162249089755381760.0000\n",
      "Epoch 52/80\n",
      "263/263 [==============================] - 2s 6ms/step - loss: 164164679529136128.0000 - val_loss: 158061462282043392.0000\n",
      "Epoch 53/80\n",
      "263/263 [==============================] - 2s 6ms/step - loss: 159952897159725056.0000 - val_loss: 153900223087771648.0000\n",
      "Epoch 54/80\n",
      "263/263 [==============================] - 1s 6ms/step - loss: 155771334180208640.0000 - val_loss: 149753191645315072.0000\n",
      "Epoch 55/80\n",
      "263/263 [==============================] - 1s 6ms/step - loss: 151601934548074496.0000 - val_loss: 145657562371457024.0000\n",
      "Epoch 56/80\n",
      "263/263 [==============================] - 2s 6ms/step - loss: 147433840585998336.0000 - val_loss: 141541867010392064.0000\n",
      "Epoch 57/80\n",
      "263/263 [==============================] - 2s 6ms/step - loss: 143282393917161472.0000 - val_loss: 137463941591728128.0000\n",
      "Epoch 58/80\n",
      "263/263 [==============================] - 2s 6ms/step - loss: 139138300232335360.0000 - val_loss: 133368312317870080.0000\n",
      "Epoch 59/80\n",
      "263/263 [==============================] - 1s 6ms/step - loss: 135030765309132800.0000 - val_loss: 129375719309443072.0000\n",
      "Epoch 60/80\n",
      "263/263 [==============================] - 1s 6ms/step - loss: 130943854818885632.0000 - val_loss: 125386510735245312.0000\n",
      "Epoch 61/80\n",
      "263/263 [==============================] - 2s 6ms/step - loss: 126882757082087424.0000 - val_loss: 121379709975003136.0000\n",
      "Epoch 62/80\n",
      "263/263 [==============================] - 2s 6ms/step - loss: 122851002561855488.0000 - val_loss: 117461402720927744.0000\n",
      "Epoch 63/80\n",
      "263/263 [==============================] - 2s 6ms/step - loss: 118854767421161472.0000 - val_loss: 113551668221575168.0000\n",
      "Epoch 64/80\n",
      "263/263 [==============================] - 2s 6ms/step - loss: 114861306829340672.0000 - val_loss: 109647379740753920.0000\n",
      "Epoch 65/80\n",
      "263/263 [==============================] - 1s 6ms/step - loss: 110918775959715840.0000 - val_loss: 105817119316246528.0000\n",
      "Epoch 66/80\n",
      "263/263 [==============================] - 2s 6ms/step - loss: 106990985417850880.0000 - val_loss: 102000001491664896.0000\n",
      "Epoch 67/80\n",
      "263/263 [==============================] - 2s 6ms/step - loss: 103105483123982336.0000 - val_loss: 98230763962499072.0000\n",
      "Epoch 68/80\n",
      "263/263 [==============================] - 1s 6ms/step - loss: 99247442851004416.0000 - val_loss: 94479161569050624.0000\n",
      "Epoch 69/80\n",
      "263/263 [==============================] - 2s 6ms/step - loss: 95438004427948032.0000 - val_loss: 90766712097472512.0000\n",
      "Epoch 70/80\n",
      "263/263 [==============================] - 2s 6ms/step - loss: 91660194144059392.0000 - val_loss: 87114512427122688.0000\n",
      "Epoch 71/80\n",
      "263/263 [==============================] - 2s 6ms/step - loss: 87931114559111168.0000 - val_loss: 83506490790379520.0000\n",
      "Epoch 72/80\n",
      "263/263 [==============================] - 2s 6ms/step - loss: 84258960470704128.0000 - val_loss: 79954209239203840.0000\n",
      "Epoch 73/80\n",
      "263/263 [==============================] - 2s 6ms/step - loss: 80651909496569856.0000 - val_loss: 76477982968905728.0000\n",
      "Epoch 74/80\n",
      "263/263 [==============================] - 1s 5ms/step - loss: 77095865554042880.0000 - val_loss: 73040153706233856.0000\n",
      "Epoch 75/80\n",
      "263/263 [==============================] - 2s 6ms/step - loss: 73586447776481280.0000 - val_loss: 69650372242702336.0000\n",
      "Epoch 76/80\n",
      "263/263 [==============================] - 1s 6ms/step - loss: 70160884940406784.0000 - val_loss: 66366221204848640.0000\n",
      "Epoch 77/80\n",
      "263/263 [==============================] - 2s 6ms/step - loss: 66777777856053248.0000 - val_loss: 63117344733396992.0000\n",
      "Epoch 78/80\n",
      "263/263 [==============================] - 2s 6ms/step - loss: 63473771184390144.0000 - val_loss: 59926600644296704.0000\n",
      "Epoch 79/80\n",
      "263/263 [==============================] - 1s 6ms/step - loss: 60229949889445888.0000 - val_loss: 56814055024754688.0000\n",
      "Epoch 80/80\n",
      "263/263 [==============================] - 2s 6ms/step - loss: 57070889774088192.0000 - val_loss: 53787301376950272.0000\n",
      "82/82 [==============================] - 0s 2ms/step\n",
      "Mean Squared Error: 5.600525588968877e+16\n"
     ]
    }
   ],
   "source": [
    "model.compile(optimizer='adam', loss='mean_squared_error')\n",
    "model.fit(X_train_normalized, y_train, epochs=80, batch_size=32, validation_split=0.2)\n",
    "predictions = model.predict(X_test_normalized)\n",
    "mse = mean_squared_error(y_test, predictions)\n",
    "print(f'Mean Squared Error: {mse}')"
   ]
  },
  {
   "cell_type": "code",
   "execution_count": 10,
   "metadata": {},
   "outputs": [
    {
     "data": {
      "image/png": "[encoded data removed]",
      "text/plain": [
       "<Figure size 1000x600 with 1 Axes>"
      ]
     },
     "metadata": {},
     "output_type": "display_data"
    }
   ],
   "source": [
    "plt.figure(figsize=(10, 6))\n",
    "\n",
    "# Ambil hanya 10 data\n",
    "num_data_to_plot = 30\n",
    "X_test_subset = X_test[:num_data_to_plot]\n",
    "y_test_subset = y_test[:num_data_to_plot]\n",
    "\n",
    "# Plot azimuth aktual\n",
    "plt.scatter(range(num_data_to_plot), y_test_subset, label='Actual Azimuth', alpha=0.5)\n",
    "\n",
    "# Plot azimuth prediksi\n",
    "predictions_subset = predictions[:num_data_to_plot]\n",
    "plt.scatter(range(num_data_to_plot), predictions_subset, label='Predicted Azimuth', color='red', alpha=0.5)\n",
    "\n",
    "plt.title('Actual vs Predicted Azimuth')\n",
    "plt.xlabel('Data Index')\n",
    "plt.ylabel('Azimuth')\n",
    "plt.legend()\n",
    "plt.show()"
   ]
  }
 ],
 "metadata": {
  "kernelspec": {
   "display_name": "Python 3",
   "language": "python",
   "name": "python3"
  },
  "language_info": {
   "codemirror_mode": {
    "name": "ipython",
    "version": 3
   },
   "file_extension": ".py",
   "mimetype": "text/x-python",
   "name": "python",
   "nbconvert_exporter": "python",
   "pygments_lexer": "ipython3",
   "version": "3.10.12"
  }
 },
 "nbformat": 4,
 "nbformat_minor": 2
}
